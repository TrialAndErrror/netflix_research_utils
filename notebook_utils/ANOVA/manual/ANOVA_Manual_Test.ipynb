{
 "cells": [
  {
   "cell_type": "markdown",
   "source": [
    "## Step 1: Initialize Analysis Object"
   ],
   "metadata": {
    "collapsed": false
   }
  },
  {
   "cell_type": "code",
   "execution_count": 11,
   "outputs": [],
   "source": [
    "import pandas as pd\n",
    "from notebook_utils.ANOVA.anova_models import AnovaAnalysis\n",
    "import os\n",
    "from pathlib import Path"
   ],
   "metadata": {
    "collapsed": false,
    "pycharm": {
     "name": "#%%\n"
    }
   }
  },
  {
   "cell_type": "code",
   "execution_count": 12,
   "outputs": [],
   "source": [
    "df_path = '/home/wade/PycharmProjects/chetflix/notebook_utils/ANOVA/input/Dataset Excluding Distribution Titles.csv'\n",
    "df = pd.read_csv(df_path).rename(columns={'Google Trends Score': 'trends_score'})\n",
    "\n",
    "country = 'Brazil'\n",
    "languages = list(df.Language.unique())\n",
    "anova_model = 'trends_score ~ Group + Language'\n",
    "\n",
    "image_out_path = Path(os.getcwd(), 'image_out_test')\n",
    "image_out_path.mkdir(exist_ok=True)\n",
    "\n",
    "my_analysis = AnovaAnalysis(df, country, languages[0], anova_model, image_out_path)"
   ],
   "metadata": {
    "collapsed": false,
    "pycharm": {
     "name": "#%%\n"
    }
   }
  },
  {
   "cell_type": "markdown",
   "source": [
    "## Step 2: Run Analysis"
   ],
   "metadata": {
    "collapsed": false
   }
  },
  {
   "cell_type": "code",
   "execution_count": 20,
   "outputs": [
    {
     "name": "stdout",
     "output_type": "stream",
     "text": [
      "Running Analysis: Afrikaans in Brazil\n",
      "\n",
      "\n",
      "One-Way ANOVA: Afrikaans\n",
      "                sum_sq       df          F        PR(>F)\n",
      "Group     5.415579e+03      3.0  16.115863  1.816938e-10\n",
      "Language  6.923968e+02     57.0   0.108445  1.000000e+00\n",
      "Residual  5.411481e+06  48311.0        NaN           NaN\n"
     ]
    },
    {
     "name": "stderr",
     "output_type": "stream",
     "text": [
      "[0305/172456.481538:ERROR:sandbox_linux.cc(377)] InitializeSandbox() called with multiple threads in process gpu-process.\n",
      "[0305/172456.498673:WARNING:bluez_dbus_manager.cc(248)] Floss manager not present, cannot set Floss enable/disable.\n",
      "[0305/172456.628840:INFO:headless_shell.cc(659)] Written to file /tmp/tmpwbye253m/temp.png.\n"
     ]
    },
    {
     "name": "stdout",
     "output_type": "stream",
     "text": [
      "\n",
      "\n",
      "Tukey Test: Afrikaans [Group]\n",
      "Error when running Tukey Test on Afrikaans in Brazil: negative dimensions are not allowed\n"
     ]
    },
    {
     "data": {
      "text/plain": "'Error when running Tukey Test on Afrikaans in Brazil: negative dimensions are not allowed'"
     },
     "execution_count": 20,
     "metadata": {},
     "output_type": "execute_result"
    }
   ],
   "source": [
    "my_analysis.run_analysis()"
   ],
   "metadata": {
    "collapsed": false,
    "pycharm": {
     "name": "#%%\n"
    }
   }
  },
  {
   "cell_type": "code",
   "execution_count": 23,
   "outputs": [],
   "source": [
    "test_df = my_analysis.dataframe\n",
    "test_df.to_csv('Brazil Example DF.csv')"
   ],
   "metadata": {
    "collapsed": false,
    "pycharm": {
     "name": "#%%\n"
    }
   }
  },
  {
   "cell_type": "code",
   "execution_count": 19,
   "outputs": [
    {
     "name": "stdout",
     "output_type": "stream",
     "text": [
      "Group Length (neither): 45083\n",
      "Group Length (sub): 1754\n",
      "Group Length (dub): 70\n",
      "Group Length (both): 1465\n"
     ]
    }
   ],
   "source": [
    "for group in ['neither', 'sub', 'dub', 'both']:\n",
    "    print(f'Group Length ({group}): {len(test_df[test_df.Group == group])}')"
   ],
   "metadata": {
    "collapsed": false,
    "pycharm": {
     "name": "#%%\n"
    }
   }
  },
  {
   "cell_type": "code",
   "execution_count": 24,
   "outputs": [
    {
     "name": "stdout",
     "output_type": "stream",
     "text": [
      "Language Size (Afrikaans): 0\n",
      "Language Size (Ukrainian): 2\n",
      "Language Size (English): 787\n",
      "Language Size (Bangla): 1\n",
      "Language Size (Lithuanian): 0\n",
      "Language Size (Flemish): 1\n",
      "Language Size (Tamil): 15\n",
      "Language Size (Dutch): 3\n",
      "Language Size (Norwegian): 1\n",
      "Language Size (Hindi): 35\n",
      "Language Size (Malayalam): 1\n",
      "Language Size (Croatian): 0\n",
      "Language Size (Slovenian): 0\n",
      "Language Size (Xhosa): 0\n",
      "Language Size (Bulgarian): 0\n",
      "Language Size (Swahili): 0\n",
      "Language Size (Czech): 0\n",
      "Language Size (Russian): 0\n",
      "Language Size (Polish): 6\n",
      "Language Size (Finnish): 0\n",
      "Language Size (Korean): 9\n",
      "Language Size (Hungarian): 0\n",
      "Language Size (Vietnamese): 0\n",
      "Language Size (Swedish): 4\n",
      "Language Size (Macedonian): 0\n",
      "Language Size (Catalan): 0\n",
      "Language Size (Tagalog): 0\n",
      "Language Size (Welsh): 0\n",
      "Language Size (German): 784\n",
      "Language Size (Hebrew): 0\n",
      "Language Size (Slovak): 0\n",
      "Language Size (Icelandic): 0\n",
      "Language Size (Danish): 0\n",
      "Language Size (Javanese): 1\n",
      "Language Size (Greek): 0\n",
      "Language Size (Romanian): 0\n",
      "Language Size (Arabic): 1\n",
      "Language Size (Zulu): 0\n",
      "Language Size (Canadian French): 1\n",
      "Language Size (Basque): 1\n",
      "Language Size (Southern Sotho): 0\n",
      "Language Size (French): 682\n",
      "Language Size (Italian): 785\n",
      "Language Size (Japanese): 17\n",
      "Language Size (Turkish): 8\n",
      "Language Size (Georgian): 1\n",
      "Language Size (Indonesian): 10\n",
      "Language Size (Filipino): 3\n",
      "Language Size (Telugu): 15\n",
      "Language Size (Portuguese): 0\n",
      "Language Size (Spanish): 104\n",
      "Language Size (Marathi): 2\n",
      "Language Size (Mandarin (Simplified)): 2\n",
      "Language Size (Cantonese (Traditional)): 1\n",
      "Language Size (Kannada): 1\n",
      "Language Size (Thai): 5\n",
      "Language Size (Wolof): 0\n",
      "Language Size (Malay): 0\n"
     ]
    }
   ],
   "source": [
    "for language in test_df.Language.unique():\n",
    "    print(f'Language Size ({language}): {len(test_df[(test_df.Language == language) & (test_df.Group != \"neither\")])}')"
   ],
   "metadata": {
    "collapsed": false,
    "pycharm": {
     "name": "#%%\n"
    }
   }
  },
  {
   "cell_type": "code",
   "execution_count": null,
   "outputs": [],
   "source": [],
   "metadata": {
    "collapsed": false,
    "pycharm": {
     "name": "#%%\n"
    }
   }
  }
 ],
 "metadata": {
  "kernelspec": {
   "display_name": "Python 3",
   "language": "python",
   "name": "python3"
  },
  "language_info": {
   "codemirror_mode": {
    "name": "ipython",
    "version": 2
   },
   "file_extension": ".py",
   "mimetype": "text/x-python",
   "name": "python",
   "nbconvert_exporter": "python",
   "pygments_lexer": "ipython2",
   "version": "2.7.6"
  }
 },
 "nbformat": 4,
 "nbformat_minor": 0
}