{
 "cells": [
  {
   "cell_type": "code",
   "execution_count": 1,
   "outputs": [],
   "source": [
    "# !pip install statsmodels\n",
    "# !pip install bioinfokit\n",
    "# !pip install pandas\n",
    "# !pip install dataframe-image"
   ],
   "metadata": {
    "collapsed": false,
    "pycharm": {
     "name": "#%%\n"
    }
   }
  },
  {
   "cell_type": "markdown",
   "source": [
    "Setup: Run this cell first!"
   ],
   "metadata": {
    "collapsed": false,
    "pycharm": {
     "name": "#%% md\n"
    }
   }
  },
  {
   "cell_type": "code",
   "execution_count": 104,
   "metadata": {
    "collapsed": true
   },
   "outputs": [],
   "source": [
    "import statsmodels.api as sm\n",
    "from statsmodels.formula.api import ols\n",
    "import pandas as pd\n",
    "from bioinfokit.analys import stat\n",
    "import matplotlib.pyplot as plt\n",
    "import scipy.stats as stats\n",
    "import dataframe_image as dfi\n",
    "\n",
    "import warnings\n",
    "warnings.filterwarnings('ignore')\n",
    "pd.set_option('display.expand_frame_repr', False)\n",
    "\n",
    "ANOVA_MODEL = 'search_interest ~ group'\n",
    "\n",
    "def perform_one_way_anova(dataframe):\n",
    "    global ANOVA_MODEL\n",
    "    model = ols(ANOVA_MODEL,data=dataframe).fit()\n",
    "    return sm.stats.anova_lm(model, typ=2)\n",
    "\n",
    "def run_tukey_test(res, dataframe, column_name):\n",
    "    res.tukey_hsd(df=dataframe, res_var='search_interest', xfac_var=column_name, anova_model=ANOVA_MODEL)\n",
    "    return res.tukey_summary, res.tukey_hsd(df=dataframe, res_var='search_interest', xfac_var=column_name, anova_model=ANOVA_MODEL)\n",
    "\n",
    "def make_qq_plot(res, plot_name):\n",
    "    sm.qqplot(res.anova_std_residuals, line='45')\n",
    "    plt.title(f'QQ Plot: {plot_name}')\n",
    "    plt.xlabel(\"Theoretical Quantiles\")\n",
    "    plt.ylabel(\"Standardized Residuals\")\n",
    "    return plt\n",
    "\n",
    "def make_qq_hist(res, plot_name):\n",
    "    plt.hist(res.anova_model_out.resid, bins='auto', histtype='bar', ec='k')\n",
    "    plt.title(f'QQ Histogram: {plot_name}')\n",
    "    plt.xlabel('Residuals')\n",
    "    plt.ylabel('Frequency')\n",
    "    return plt\n",
    "\n",
    "def test_shapiro_wilk(res):\n",
    "    w, pvalue = stats.shapiro(res.anova_model_out.resid)\n",
    "    return {\n",
    "        'w': w,\n",
    "        'p-value': pvalue\n",
    "    }\n",
    "\n",
    "class NewAnovaAnalysis:\n",
    "    def __init__(self, df_csv, country, anova_model=ANOVA_MODEL):\n",
    "        self.res = stat()\n",
    "        self.dataframe: pd.DataFrame = self.load_and_process_df(df_csv)\n",
    "        self.dataframe = self.dataframe[self.dataframe.country == country]\n",
    "        try:\n",
    "            self.name = self.dataframe.iloc[1].group_language\n",
    "        except IndexError:\n",
    "            print('Error: No results found. Cannot run analysis.')\n",
    "            self.name = 'Unnamed Analysis'\n",
    "        else:\n",
    "            self.anova_model = anova_model\n",
    "            self.country = country\n",
    "\n",
    "    def load_and_process_df(self, csv_path):\n",
    "        df = pd.read_csv(csv_path)\n",
    "        return df[df['group_value'] == True].drop('Unnamed: 0', axis=1).drop('group_value', axis=1)[['title', 'country', 'available', 'original_language', 'group', 'group_language', 'search_interest']]\n",
    "\n",
    "    def run_analysis(self):\n",
    "        if self.name != 'Unnamed Analysis':\n",
    "            print(f'Running Analysis: {self.name} in {self.country}\\n\\n')\n",
    "            anova_df = self.perform_one_way_anova()\n",
    "\n",
    "            print(anova_df)\n",
    "            dfi.export(anova_df, f'ANOVA_{self.name}_{self.country}.png')\n",
    "            if anova_df.iloc[0]['PR(>F)'] < .05:\n",
    "                tukey_test, tukey_obj = self.run_tukey_test('group')\n",
    "                print(tukey_test)\n",
    "                dfi.export(tukey_test, f'TUKEY_{self.name}_{self.country}.png')\n",
    "                shapiro = self.test_shapiro_wilk()\n",
    "                print(shapiro)\n",
    "            else:\n",
    "                print('\\nNot significant, skipping tukey test')\n",
    "        else:\n",
    "            print('\\n\\nError loading data; skipping analysis\\n\\n')\n",
    "\n",
    "    def perform_one_way_anova(self):\n",
    "        print(f'One-Way ANOVA: {self.name}')\n",
    "        return perform_one_way_anova(self.dataframe)\n",
    "\n",
    "    def make_qq_plot(self):\n",
    "        return make_qq_plot(self.res, self.name)\n",
    "\n",
    "    def make_qq_hist(self):\n",
    "        return make_qq_hist(self.res, self.name)\n",
    "\n",
    "    def test_shapiro_wilk(self):\n",
    "        print(f'\\n\\nShapiro-Wilk Test: {self.name}')\n",
    "        w, pvalue = stats.shapiro(self.res.anova_model_out.resid)\n",
    "        return (f'W: {w}; P-Value: {pvalue}')\n",
    "\n",
    "    def run_tukey_test(self, column_name):\n",
    "        print(f'\\n\\nTukey Test: {self.name} [{column_name}]')\n",
    "        return run_tukey_test(self.res, self.dataframe, column_name)"
   ]
  },
  {
   "cell_type": "markdown",
   "source": [
    "## Step 1: Initialize Analysis Object"
   ],
   "metadata": {
    "collapsed": false,
    "pycharm": {
     "name": "#%% md\n"
    }
   }
  },
  {
   "cell_type": "code",
   "execution_count": 20,
   "outputs": [],
   "source": [
    "dataframe_file_name = 'claudia_anova_df_9.csv'\n",
    "\n",
    "my_analysis = NewAnovaAnalysis(dataframe_file_name, 'Hungary')"
   ],
   "metadata": {
    "collapsed": false,
    "pycharm": {
     "name": "#%%\n"
    }
   }
  },
  {
   "cell_type": "markdown",
   "source": [
    "## Step 2: Run Analysis"
   ],
   "metadata": {
    "collapsed": false,
    "pycharm": {
     "name": "#%% md\n"
    }
   }
  },
  {
   "cell_type": "code",
   "execution_count": 22,
   "outputs": [
    {
     "name": "stdout",
     "output_type": "stream",
     "text": [
      "Running Analysis: Hungarian in Hungary\n",
      "\n",
      "\n",
      "One-Way ANOVA: Hungarian\n",
      "               sum_sq    df         F    PR(>F)\n",
      "group      846.163043   2.0  7.232673  0.001264\n",
      "Residual  4913.653049  84.0       NaN       NaN\n"
     ]
    },
    {
     "name": "stderr",
     "output_type": "stream",
     "text": [
      "[0126/191622.996858:ERROR:sandbox_linux.cc(378)] InitializeSandbox() called with multiple threads in process gpu-process.\n",
      "[0126/191623.093216:INFO:headless_shell.cc(653)] Written to file /tmp/tmp_mi2c1qd/temp.png.\n"
     ]
    },
    {
     "name": "stdout",
     "output_type": "stream",
     "text": [
      "\n",
      "\n",
      "Tukey Test: Hungarian [group]\n",
      "   group1   group2      Diff     Lower      Upper   q-value   p-value\n",
      "0  subbed     both  6.392073  2.336436  10.447710  5.318309  0.001000\n",
      "1  subbed  neither  1.317073 -6.659565   9.293711  0.557161  0.900000\n",
      "2    both  neither  5.075000 -2.914356  13.064356  2.143459  0.289255\n",
      "\n",
      "\n",
      "Shapiro-Wilk Test: Hungarian\n",
      "W: 0.7867830395698547; P-Value: 6.835579879904685e-10\n"
     ]
    },
    {
     "name": "stderr",
     "output_type": "stream",
     "text": [
      "[0126/191623.238205:ERROR:sandbox_linux.cc(378)] InitializeSandbox() called with multiple threads in process gpu-process.\n",
      "[0126/191623.330083:INFO:headless_shell.cc(653)] Written to file /tmp/tmp8mzz7a51/temp.png.\n"
     ]
    }
   ],
   "source": [
    "my_analysis.run_analysis()"
   ],
   "metadata": {
    "collapsed": false,
    "pycharm": {
     "name": "#%%\n"
    }
   }
  },
  {
   "cell_type": "markdown",
   "source": [
    "## Step 3: Make Plots"
   ],
   "metadata": {
    "collapsed": false,
    "pycharm": {
     "name": "#%% md\n"
    }
   }
  },
  {
   "cell_type": "code",
   "execution_count": 23,
   "outputs": [
    {
     "data": {
      "text/plain": "<module 'matplotlib.pyplot' from '/home/wade/anaconda3/envs/chetflix-3.9/lib/python3.9/site-packages/matplotlib/pyplot.py'>"
     },
     "execution_count": 23,
     "metadata": {},
     "output_type": "execute_result"
    },
    {
     "data": {
      "text/plain": "<Figure size 432x288 with 1 Axes>",
      "image/png": "[encoded data removed]"
     },
     "metadata": {
      "needs_background": "light"
     },
     "output_type": "display_data"
    }
   ],
   "source": [
    "my_analysis.make_qq_plot()"
   ],
   "metadata": {
    "collapsed": false,
    "pycharm": {
     "name": "#%%\n"
    }
   }
  },
  {
   "cell_type": "code",
   "execution_count": 24,
   "outputs": [
    {
     "data": {
      "text/plain": "<module 'matplotlib.pyplot' from '/home/wade/anaconda3/envs/chetflix-3.9/lib/python3.9/site-packages/matplotlib/pyplot.py'>"
     },
     "execution_count": 24,
     "metadata": {},
     "output_type": "execute_result"
    },
    {
     "data": {
      "text/plain": "<Figure size 432x288 with 1 Axes>",
      "image/png": "[encoded data removed]"
     },
     "metadata": {
      "needs_background": "light"
     },
     "output_type": "display_data"
    }
   ],
   "source": [
    "my_analysis.make_qq_hist()"
   ],
   "metadata": {
    "collapsed": false,
    "pycharm": {
     "name": "#%%\n"
    }
   }
  },
  {
   "cell_type": "markdown",
   "source": [
    "## Step 4: Record Observations"
   ],
   "metadata": {
    "collapsed": false,
    "pycharm": {
     "name": "#%% md\n"
    }
   }
  },
  {
   "cell_type": "markdown",
   "source": [],
   "metadata": {
    "collapsed": false,
    "pycharm": {
     "name": "#%% md\n"
    }
   }
  },
  {
   "cell_type": "markdown",
   "source": [],
   "metadata": {
    "collapsed": false,
    "pycharm": {
     "name": "#%% md\n"
    }
   }
  },
  {
   "cell_type": "markdown",
   "source": [],
   "metadata": {
    "collapsed": false,
    "pycharm": {
     "name": "#%% md\n"
    }
   }
  },
  {
   "cell_type": "markdown",
   "source": [],
   "metadata": {
    "collapsed": false,
    "pycharm": {
     "name": "#%% md\n"
    }
   }
  },
  {
   "cell_type": "code",
   "source": [
    "file_list = [f'wade_anova_df_{num}.csv' for num in range(1, 12)]"
   ],
   "metadata": {
    "collapsed": false,
    "pycharm": {
     "name": "#%%\n"
    }
   },
   "execution_count": 37,
   "outputs": []
  },
  {
   "cell_type": "code",
   "execution_count": 39,
   "outputs": [],
   "source": [
    "df_list = [pd.read_csv(file) for file in file_list]"
   ],
   "metadata": {
    "collapsed": false,
    "pycharm": {
     "name": "#%%\n"
    }
   }
  },
  {
   "cell_type": "code",
   "execution_count": 27,
   "outputs": [
    {
     "data": {
      "text/plain": "       Unnamed: 0         title         country  available     original_language    group group_language  group_value premiere_date    genre_1  ... Overall.ø.day Movies.Points Movies.Days Movies.ø.day Kids.Points Kids.Days Kids.ø.day Official.Points  Official.Weeks search_interest\n0               6   7-prisoners       Argentina       True  Brazilian Portuguese  neither        Turkish         True    2021-11-05     Dramas  ...           4.7            51           8          6.4           0         0        0.0              10               2               2\n1              21   7-prisoners       Argentina       True  Brazilian Portuguese     both        Turkish        False    2021-11-05     Dramas  ...           4.7            51           8          6.4           0         0        0.0              10               2               2\n2             122   7-prisoners       Argentina       True  Brazilian Portuguese   dubbed        Turkish        False    2021-11-05     Dramas  ...           4.7            51           8          6.4           0         0        0.0              10               2               2\n3             174   7-prisoners       Argentina       True  Brazilian Portuguese   subbed        Turkish        False    2021-11-05     Dramas  ...           4.7            51           8          6.4           0         0        0.0              10               2               2\n4             220   7-prisoners       Australia      False  Brazilian Portuguese     both        Turkish        False    2021-11-05     Dramas  ...           0.0             0           0          0.0           0         0        0.0               0               0               3\n...           ...           ...             ...        ...                   ...      ...            ...          ...           ...        ...  ...           ...           ...         ...          ...         ...       ...        ...             ...             ...             ...\n13567      596930  zero-to-hero  United Kingdom      False             Cantonese   dubbed        Turkish        False    2021-11-05  Hong Kong  ...           0.0             0           0          0.0           0         0        0.0               0               0              10\n13568      596992  zero-to-hero   United States      False             Cantonese   dubbed        Turkish        False    2021-11-05  Hong Kong  ...           0.0             0           0          0.0           0         0        0.0               0               0               7\n13569      597019  zero-to-hero   United States      False             Cantonese   subbed        Turkish        False    2021-11-05  Hong Kong  ...           0.0             0           0          0.0           0         0        0.0               0               0               7\n13570      597043  zero-to-hero   United States      False             Cantonese     both        Turkish        False    2021-11-05  Hong Kong  ...           0.0             0           0          0.0           0         0        0.0               0               0               7\n13571      597103  zero-to-hero   United States      False             Cantonese  neither        Turkish         True    2021-11-05  Hong Kong  ...           0.0             0           0          0.0           0         0        0.0               0               0               7\n\n[13572 rows x 39 columns]",
      "text/html": "<div>\n<style scoped>\n    .dataframe tbody tr th:only-of-type {\n        vertical-align: middle;\n    }\n\n    .dataframe tbody tr th {\n        vertical-align: top;\n    }\n\n    .dataframe thead th {\n        text-align: right;\n    }\n</style>\n<table border=\"1\" class=\"dataframe\">\n  <thead>\n    <tr style=\"text-align: right;\">\n      <th></th>\n      <th>Unnamed: 0</th>\n      <th>title</th>\n      <th>country</th>\n      <th>available</th>\n      <th>original_language</th>\n      <th>group</th>\n      <th>group_language</th>\n      <th>group_value</th>\n      <th>premiere_date</th>\n      <th>genre_1</th>\n      <th>...</th>\n      <th>Overall.ø.day</th>\n      <th>Movies.Points</th>\n      <th>Movies.Days</th>\n      <th>Movies.ø.day</th>\n      <th>Kids.Points</th>\n      <th>Kids.Days</th>\n      <th>Kids.ø.day</th>\n      <th>Official.Points</th>\n      <th>Official.Weeks</th>\n      <th>search_interest</th>\n    </tr>\n  </thead>\n  <tbody>\n    <tr>\n      <th>0</th>\n      <td>6</td>\n      <td>7-prisoners</td>\n      <td>Argentina</td>\n      <td>True</td>\n      <td>Brazilian Portuguese</td>\n      <td>neither</td>\n      <td>Turkish</td>\n      <td>True</td>\n      <td>2021-11-05</td>\n      <td>Dramas</td>\n      <td>...</td>\n      <td>4.7</td>\n      <td>51</td>\n      <td>8</td>\n      <td>6.4</td>\n      <td>0</td>\n      <td>0</td>\n      <td>0.0</td>\n      <td>10</td>\n      <td>2</td>\n      <td>2</td>\n    </tr>\n    <tr>\n      <th>1</th>\n      <td>21</td>\n      <td>7-prisoners</td>\n      <td>Argentina</td>\n      <td>True</td>\n      <td>Brazilian Portuguese</td>\n      <td>both</td>\n      <td>Turkish</td>\n      <td>False</td>\n      <td>2021-11-05</td>\n      <td>Dramas</td>\n      <td>...</td>\n      <td>4.7</td>\n      <td>51</td>\n      <td>8</td>\n      <td>6.4</td>\n      <td>0</td>\n      <td>0</td>\n      <td>0.0</td>\n      <td>10</td>\n      <td>2</td>\n      <td>2</td>\n    </tr>\n    <tr>\n      <th>2</th>\n      <td>122</td>\n      <td>7-prisoners</td>\n      <td>Argentina</td>\n      <td>True</td>\n      <td>Brazilian Portuguese</td>\n      <td>dubbed</td>\n      <td>Turkish</td>\n      <td>False</td>\n      <td>2021-11-05</td>\n      <td>Dramas</td>\n      <td>...</td>\n      <td>4.7</td>\n      <td>51</td>\n      <td>8</td>\n      <td>6.4</td>\n      <td>0</td>\n      <td>0</td>\n      <td>0.0</td>\n      <td>10</td>\n      <td>2</td>\n      <td>2</td>\n    </tr>\n    <tr>\n      <th>3</th>\n      <td>174</td>\n      <td>7-prisoners</td>\n      <td>Argentina</td>\n      <td>True</td>\n      <td>Brazilian Portuguese</td>\n      <td>subbed</td>\n      <td>Turkish</td>\n      <td>False</td>\n      <td>2021-11-05</td>\n      <td>Dramas</td>\n      <td>...</td>\n      <td>4.7</td>\n      <td>51</td>\n      <td>8</td>\n      <td>6.4</td>\n      <td>0</td>\n      <td>0</td>\n      <td>0.0</td>\n      <td>10</td>\n      <td>2</td>\n      <td>2</td>\n    </tr>\n    <tr>\n      <th>4</th>\n      <td>220</td>\n      <td>7-prisoners</td>\n      <td>Australia</td>\n      <td>False</td>\n      <td>Brazilian Portuguese</td>\n      <td>both</td>\n      <td>Turkish</td>\n      <td>False</td>\n      <td>2021-11-05</td>\n      <td>Dramas</td>\n      <td>...</td>\n      <td>0.0</td>\n      <td>0</td>\n      <td>0</td>\n      <td>0.0</td>\n      <td>0</td>\n      <td>0</td>\n      <td>0.0</td>\n      <td>0</td>\n      <td>0</td>\n      <td>3</td>\n    </tr>\n    <tr>\n      <th>...</th>\n      <td>...</td>\n      <td>...</td>\n      <td>...</td>\n      <td>...</td>\n      <td>...</td>\n      <td>...</td>\n      <td>...</td>\n      <td>...</td>\n      <td>...</td>\n      <td>...</td>\n      <td>...</td>\n      <td>...</td>\n      <td>...</td>\n      <td>...</td>\n      <td>...</td>\n      <td>...</td>\n      <td>...</td>\n      <td>...</td>\n      <td>...</td>\n      <td>...</td>\n      <td>...</td>\n    </tr>\n    <tr>\n      <th>13567</th>\n      <td>596930</td>\n      <td>zero-to-hero</td>\n      <td>United Kingdom</td>\n      <td>False</td>\n      <td>Cantonese</td>\n      <td>dubbed</td>\n      <td>Turkish</td>\n      <td>False</td>\n      <td>2021-11-05</td>\n      <td>Hong Kong</td>\n      <td>...</td>\n      <td>0.0</td>\n      <td>0</td>\n      <td>0</td>\n      <td>0.0</td>\n      <td>0</td>\n      <td>0</td>\n      <td>0.0</td>\n      <td>0</td>\n      <td>0</td>\n      <td>10</td>\n    </tr>\n    <tr>\n      <th>13568</th>\n      <td>596992</td>\n      <td>zero-to-hero</td>\n      <td>United States</td>\n      <td>False</td>\n      <td>Cantonese</td>\n      <td>dubbed</td>\n      <td>Turkish</td>\n      <td>False</td>\n      <td>2021-11-05</td>\n      <td>Hong Kong</td>\n      <td>...</td>\n      <td>0.0</td>\n      <td>0</td>\n      <td>0</td>\n      <td>0.0</td>\n      <td>0</td>\n      <td>0</td>\n      <td>0.0</td>\n      <td>0</td>\n      <td>0</td>\n      <td>7</td>\n    </tr>\n    <tr>\n      <th>13569</th>\n      <td>597019</td>\n      <td>zero-to-hero</td>\n      <td>United States</td>\n      <td>False</td>\n      <td>Cantonese</td>\n      <td>subbed</td>\n      <td>Turkish</td>\n      <td>False</td>\n      <td>2021-11-05</td>\n      <td>Hong Kong</td>\n      <td>...</td>\n      <td>0.0</td>\n      <td>0</td>\n      <td>0</td>\n      <td>0.0</td>\n      <td>0</td>\n      <td>0</td>\n      <td>0.0</td>\n      <td>0</td>\n      <td>0</td>\n      <td>7</td>\n    </tr>\n    <tr>\n      <th>13570</th>\n      <td>597043</td>\n      <td>zero-to-hero</td>\n      <td>United States</td>\n      <td>False</td>\n      <td>Cantonese</td>\n      <td>both</td>\n      <td>Turkish</td>\n      <td>False</td>\n      <td>2021-11-05</td>\n      <td>Hong Kong</td>\n      <td>...</td>\n      <td>0.0</td>\n      <td>0</td>\n      <td>0</td>\n      <td>0.0</td>\n      <td>0</td>\n      <td>0</td>\n      <td>0.0</td>\n      <td>0</td>\n      <td>0</td>\n      <td>7</td>\n    </tr>\n    <tr>\n      <th>13571</th>\n      <td>597103</td>\n      <td>zero-to-hero</td>\n      <td>United States</td>\n      <td>False</td>\n      <td>Cantonese</td>\n      <td>neither</td>\n      <td>Turkish</td>\n      <td>True</td>\n      <td>2021-11-05</td>\n      <td>Hong Kong</td>\n      <td>...</td>\n      <td>0.0</td>\n      <td>0</td>\n      <td>0</td>\n      <td>0.0</td>\n      <td>0</td>\n      <td>0</td>\n      <td>0.0</td>\n      <td>0</td>\n      <td>0</td>\n      <td>7</td>\n    </tr>\n  </tbody>\n</table>\n<p>13572 rows × 39 columns</p>\n</div>"
     },
     "execution_count": 27,
     "metadata": {},
     "output_type": "execute_result"
    }
   ],
   "source": [
    "df_list[0]"
   ],
   "metadata": {
    "collapsed": false,
    "pycharm": {
     "name": "#%%\n"
    }
   }
  },
  {
   "cell_type": "code",
   "execution_count": 28,
   "outputs": [
    {
     "name": "stdout",
     "output_type": "stream",
     "text": [
      "Turkish\n",
      "Portuguese\n",
      "Russian\n",
      "Japanese\n",
      "Polish\n",
      "Vietnamese\n",
      "Hebrew\n",
      "Telugu\n",
      "Canadian.French\n",
      "French\n",
      "Finnish\n"
     ]
    },
    {
     "data": {
      "text/plain": "[None, None, None, None, None, None, None, None, None, None, None]"
     },
     "execution_count": 28,
     "metadata": {},
     "output_type": "execute_result"
    }
   ],
   "source": [
    "[print(item.iloc[1].group_language) for item in df_list]"
   ],
   "metadata": {
    "collapsed": false,
    "pycharm": {
     "name": "#%%\n"
    }
   }
  },
  {
   "cell_type": "code",
   "execution_count": 29,
   "outputs": [
    {
     "name": "stdout",
     "output_type": "stream",
     "text": [
      "[['Argentina', 'Australia', 'Belgium', 'Brazil', 'Canada', 'Colombia', 'Czech Republic', 'France', 'Germany', 'Greece', 'Hong Kong', 'Hungary', 'Iceland', 'India', 'Israel', 'Italy', 'Japan', 'Lithuania', 'Malaysia', 'Mexico', 'Netherlands', 'Philippines', 'Poland', 'Portugal', 'Romania', 'Russia', 'Singapore', 'Slovakia', 'South Africa', 'South Korea', 'Spain', 'Sweden', 'Switzerland', 'Taiwan', 'Thailand', 'Turkey', 'Ukraine', 'United Kingdom', 'United States'], ['Argentina', 'Australia', 'Belgium', 'Brazil', 'Canada', 'Colombia', 'Czech Republic', 'France', 'Germany', 'Greece', 'Hong Kong', 'Hungary', 'Iceland', 'India', 'Israel', 'Italy', 'Japan', 'Lithuania', 'Malaysia', 'Mexico', 'Netherlands', 'Philippines', 'Poland', 'Portugal', 'Romania', 'Russia', 'Singapore', 'Slovakia', 'South Africa', 'South Korea', 'Spain', 'Sweden', 'Switzerland', 'Taiwan', 'Thailand', 'Turkey', 'Ukraine', 'United Kingdom', 'United States'], ['Argentina', 'Australia', 'Belgium', 'Brazil', 'Canada', 'Colombia', 'Czech Republic', 'France', 'Germany', 'Greece', 'Hong Kong', 'Hungary', 'Iceland', 'India', 'Israel', 'Italy', 'Japan', 'Lithuania', 'Malaysia', 'Mexico', 'Netherlands', 'Philippines', 'Poland', 'Portugal', 'Romania', 'Russia', 'Singapore', 'Slovakia', 'South Africa', 'South Korea', 'Spain', 'Sweden', 'Switzerland', 'Taiwan', 'Thailand', 'Turkey', 'Ukraine', 'United Kingdom', 'United States'], ['Argentina', 'Australia', 'Belgium', 'Brazil', 'Canada', 'Colombia', 'Czech Republic', 'France', 'Germany', 'Greece', 'Hong Kong', 'Hungary', 'Iceland', 'India', 'Israel', 'Italy', 'Japan', 'Lithuania', 'Malaysia', 'Mexico', 'Netherlands', 'Philippines', 'Poland', 'Portugal', 'Romania', 'Russia', 'Singapore', 'Slovakia', 'South Africa', 'South Korea', 'Spain', 'Sweden', 'Switzerland', 'Taiwan', 'Thailand', 'Turkey', 'Ukraine', 'United Kingdom', 'United States'], ['Argentina', 'Australia', 'Belgium', 'Brazil', 'Canada', 'Colombia', 'Czech Republic', 'France', 'Germany', 'Greece', 'Hong Kong', 'Hungary', 'Iceland', 'India', 'Israel', 'Italy', 'Japan', 'Lithuania', 'Malaysia', 'Mexico', 'Netherlands', 'Philippines', 'Poland', 'Portugal', 'Romania', 'Russia', 'Singapore', 'Slovakia', 'South Africa', 'South Korea', 'Spain', 'Sweden', 'Switzerland', 'Taiwan', 'Thailand', 'Turkey', 'Ukraine', 'United Kingdom', 'United States'], ['Argentina', 'Australia', 'Belgium', 'Brazil', 'Canada', 'Colombia', 'Czech Republic', 'France', 'Germany', 'Greece', 'Hong Kong', 'Hungary', 'Iceland', 'India', 'Israel', 'Italy', 'Japan', 'Lithuania', 'Malaysia', 'Mexico', 'Netherlands', 'Philippines', 'Poland', 'Portugal', 'Romania', 'Russia', 'Singapore', 'Slovakia', 'South Africa', 'South Korea', 'Spain', 'Sweden', 'Switzerland', 'Taiwan', 'Thailand', 'Turkey', 'Ukraine', 'United Kingdom', 'United States'], ['Argentina', 'Australia', 'Belgium', 'Brazil', 'Canada', 'Colombia', 'Czech Republic', 'France', 'Germany', 'Greece', 'Hong Kong', 'Hungary', 'Iceland', 'India', 'Israel', 'Italy', 'Japan', 'Lithuania', 'Malaysia', 'Mexico', 'Netherlands', 'Philippines', 'Poland', 'Portugal', 'Romania', 'Russia', 'Singapore', 'Slovakia', 'South Africa', 'South Korea', 'Spain', 'Sweden', 'Switzerland', 'Taiwan', 'Thailand', 'Turkey', 'Ukraine', 'United Kingdom', 'United States'], ['Argentina', 'Australia', 'Belgium', 'Brazil', 'Canada', 'Colombia', 'Czech Republic', 'France', 'Germany', 'Greece', 'Hong Kong', 'Hungary', 'Iceland', 'India', 'Israel', 'Italy', 'Japan', 'Lithuania', 'Malaysia', 'Mexico', 'Netherlands', 'Philippines', 'Poland', 'Portugal', 'Romania', 'Russia', 'Singapore', 'Slovakia', 'South Africa', 'South Korea', 'Spain', 'Sweden', 'Switzerland', 'Taiwan', 'Thailand', 'Turkey', 'Ukraine', 'United Kingdom', 'United States'], ['Argentina', 'Australia', 'Belgium', 'Brazil', 'Canada', 'Colombia', 'Czech Republic', 'France', 'Germany', 'Greece', 'Hong Kong', 'Hungary', 'Iceland', 'India', 'Israel', 'Italy', 'Japan', 'Lithuania', 'Malaysia', 'Mexico', 'Netherlands', 'Philippines', 'Poland', 'Portugal', 'Romania', 'Russia', 'Singapore', 'Slovakia', 'South Africa', 'South Korea', 'Spain', 'Sweden', 'Switzerland', 'Taiwan', 'Thailand', 'Turkey', 'Ukraine', 'United Kingdom', 'United States'], ['Argentina', 'Australia', 'Belgium', 'Brazil', 'Canada', 'Colombia', 'Czech Republic', 'France', 'Germany', 'Greece', 'Hong Kong', 'Hungary', 'Iceland', 'India', 'Israel', 'Italy', 'Japan', 'Lithuania', 'Malaysia', 'Mexico', 'Netherlands', 'Philippines', 'Poland', 'Portugal', 'Romania', 'Russia', 'Singapore', 'Slovakia', 'South Africa', 'South Korea', 'Spain', 'Sweden', 'Switzerland', 'Taiwan', 'Thailand', 'Turkey', 'Ukraine', 'United Kingdom', 'United States'], ['Argentina', 'Australia', 'Belgium', 'Brazil', 'Canada', 'Colombia', 'Czech Republic', 'France', 'Germany', 'Greece', 'Hong Kong', 'Hungary', 'Iceland', 'India', 'Israel', 'Italy', 'Japan', 'Lithuania', 'Malaysia', 'Mexico', 'Netherlands', 'Philippines', 'Poland', 'Portugal', 'Romania', 'Russia', 'Singapore', 'Slovakia', 'South Africa', 'South Korea', 'Spain', 'Sweden', 'Switzerland', 'Taiwan', 'Thailand', 'Turkey', 'Ukraine', 'United Kingdom', 'United States']]\n"
     ]
    }
   ],
   "source": [
    "print([list(item.country.unique()) for item in df_list])"
   ],
   "metadata": {
    "collapsed": false,
    "pycharm": {
     "name": "#%%\n"
    }
   }
  },
  {
   "cell_type": "code",
   "execution_count": 30,
   "outputs": [],
   "source": [
    "languages = ['Turkey', 'Portugal', 'Russia', 'Japan', 'Poland', 'Vietnam', 'Israel', 'India', 'Canada', 'France', 'Finland']"
   ],
   "metadata": {
    "collapsed": false,
    "pycharm": {
     "name": "#%%\n"
    }
   }
  },
  {
   "cell_type": "code",
   "execution_count": 31,
   "outputs": [
    {
     "data": {
      "text/plain": "['wade_anova_df_1.csv',\n 'wade_anova_df_2.csv',\n 'wade_anova_df_3.csv',\n 'wade_anova_df_4.csv',\n 'wade_anova_df_5.csv',\n 'wade_anova_df_6.csv',\n 'wade_anova_df_7.csv',\n 'wade_anova_df_8.csv',\n 'wade_anova_df_9.csv',\n 'wade_anova_df_10.csv',\n 'wade_anova_df_11.csv']"
     },
     "execution_count": 31,
     "metadata": {},
     "output_type": "execute_result"
    }
   ],
   "source": [
    "file_list"
   ],
   "metadata": {
    "collapsed": false,
    "pycharm": {
     "name": "#%%\n"
    }
   }
  },
  {
   "cell_type": "code",
   "execution_count": 32,
   "outputs": [
    {
     "data": {
      "text/plain": "(11, 11)"
     },
     "execution_count": 32,
     "metadata": {},
     "output_type": "execute_result"
    }
   ],
   "source": [
    "len(file_list), len(languages)"
   ],
   "metadata": {
    "collapsed": false,
    "pycharm": {
     "name": "#%%\n"
    }
   }
  },
  {
   "cell_type": "code",
   "execution_count": 105,
   "outputs": [
    {
     "name": "stdout",
     "output_type": "stream",
     "text": [
      "Error: No results found. Cannot run analysis.\n",
      "Error: No results found. Cannot run analysis.\n"
     ]
    }
   ],
   "source": [
    "analysis_list = [NewAnovaAnalysis(file_list[num], languages[num]) for num in range(len(file_list))]"
   ],
   "metadata": {
    "collapsed": false,
    "pycharm": {
     "name": "#%%\n"
    }
   }
  },
  {
   "cell_type": "code",
   "execution_count": 34,
   "outputs": [],
   "source": [
    "analysis_name = [item.name if item.name else 'No Results' for item in analysis_list]"
   ],
   "metadata": {
    "collapsed": false,
    "pycharm": {
     "name": "#%%\n"
    }
   }
  },
  {
   "cell_type": "code",
   "execution_count": 35,
   "outputs": [
    {
     "data": {
      "text/plain": "['Turkish',\n 'Portuguese',\n 'Russian',\n 'Japanese',\n 'Polish',\n 'Unnamed Analysis',\n 'Hebrew',\n 'Telugu',\n 'Canadian.French',\n 'French',\n 'Unnamed Analysis']"
     },
     "execution_count": 35,
     "metadata": {},
     "output_type": "execute_result"
    }
   ],
   "source": [
    "analysis_name"
   ],
   "metadata": {
    "collapsed": false,
    "pycharm": {
     "name": "#%%\n"
    }
   }
  },
  {
   "cell_type": "markdown",
   "source": [
    "No Results Found: Vietnam, Finland"
   ],
   "metadata": {
    "collapsed": false,
    "pycharm": {
     "name": "#%% md\n"
    }
   }
  },
  {
   "cell_type": "code",
   "execution_count": 106,
   "outputs": [
    {
     "name": "stdout",
     "output_type": "stream",
     "text": [
      "Running Analysis: Turkish in Turkey\n",
      "\n",
      "\n",
      "One-Way ANOVA: Turkish\n",
      "               sum_sq    df         F    PR(>F)\n",
      "group       96.314614   2.0  0.583831  0.560005\n",
      "Residual  6928.742857  84.0       NaN       NaN\n"
     ]
    },
    {
     "name": "stderr",
     "output_type": "stream",
     "text": [
      "[0126/200910.390720:ERROR:sandbox_linux.cc(378)] InitializeSandbox() called with multiple threads in process gpu-process.\n",
      "[0126/200910.482693:INFO:headless_shell.cc(653)] Written to file /tmp/tmph_q9qu1v/temp.png.\n"
     ]
    },
    {
     "name": "stdout",
     "output_type": "stream",
     "text": [
      "\n",
      "Not significant, skipping tukey test\n",
      "Running Analysis: Portuguese in Portugal\n",
      "\n",
      "\n",
      "One-Way ANOVA: Portuguese\n",
      "               sum_sq    df         F    PR(>F)\n",
      "group      177.386847   2.0  3.237081  0.044228\n",
      "Residual  2301.532694  84.0       NaN       NaN\n"
     ]
    },
    {
     "name": "stderr",
     "output_type": "stream",
     "text": [
      "[0126/200910.602415:ERROR:sandbox_linux.cc(378)] InitializeSandbox() called with multiple threads in process gpu-process.\n",
      "[0126/200910.717700:INFO:headless_shell.cc(653)] Written to file /tmp/tmpty22xc7e/temp.png.\n"
     ]
    },
    {
     "name": "stdout",
     "output_type": "stream",
     "text": [
      "\n",
      "\n",
      "Tukey Test: Portuguese [group]\n",
      "   group1   group2      Diff     Lower      Upper   q-value   p-value\n",
      "0  subbed     both  3.872068  0.201900   7.542236  3.559983  0.036226\n",
      "1  subbed  neither  4.023810 -2.070439  10.118058  2.227964  0.262214\n",
      "2    both  neither  0.151741 -5.170484   5.473966  0.096206  0.900000\n"
     ]
    },
    {
     "name": "stderr",
     "output_type": "stream",
     "text": [
      "[0126/200910.894995:ERROR:sandbox_linux.cc(378)] InitializeSandbox() called with multiple threads in process gpu-process.\n",
      "[0126/200910.993045:INFO:headless_shell.cc(653)] Written to file /tmp/tmpon7zuqja/temp.png.\n"
     ]
    },
    {
     "name": "stdout",
     "output_type": "stream",
     "text": [
      "\n",
      "\n",
      "Shapiro-Wilk Test: Portuguese\n",
      "W: 0.8463014960289001; P-Value: 4.6794454533483076e-08\n",
      "Running Analysis: Russian in Russia\n",
      "\n",
      "\n",
      "One-Way ANOVA: Russian\n",
      "             sum_sq    df         F    PR(>F)\n",
      "group      0.447958   2.0  0.226802  0.797565\n",
      "Residual  82.954341  84.0       NaN       NaN\n"
     ]
    },
    {
     "name": "stderr",
     "output_type": "stream",
     "text": [
      "[0126/200911.124510:ERROR:sandbox_linux.cc(378)] InitializeSandbox() called with multiple threads in process gpu-process.\n",
      "[0126/200911.257884:INFO:headless_shell.cc(653)] Written to file /tmp/tmp2r6zmpq0/temp.png.\n"
     ]
    },
    {
     "name": "stdout",
     "output_type": "stream",
     "text": [
      "\n",
      "Not significant, skipping tukey test\n",
      "Running Analysis: Japanese in Japan\n",
      "\n",
      "\n",
      "One-Way ANOVA: Japanese\n",
      "            sum_sq    df         F    PR(>F)\n",
      "group      0.37079   2.0  0.586588  0.558484\n",
      "Residual  26.54875  84.0       NaN       NaN\n"
     ]
    },
    {
     "name": "stderr",
     "output_type": "stream",
     "text": [
      "[0126/200911.381023:ERROR:sandbox_linux.cc(378)] InitializeSandbox() called with multiple threads in process gpu-process.\n",
      "[0126/200911.483296:INFO:headless_shell.cc(653)] Written to file /tmp/tmpcu0h71df/temp.png.\n"
     ]
    },
    {
     "name": "stdout",
     "output_type": "stream",
     "text": [
      "\n",
      "Not significant, skipping tukey test\n",
      "Running Analysis: Polish in Poland\n",
      "\n",
      "\n",
      "One-Way ANOVA: Polish\n",
      "                sum_sq    df         F    PR(>F)\n",
      "group       123.894380   2.0  0.426977  0.653887\n",
      "Residual  12187.002172  84.0       NaN       NaN\n"
     ]
    },
    {
     "name": "stderr",
     "output_type": "stream",
     "text": [
      "[0126/200911.598457:ERROR:sandbox_linux.cc(378)] InitializeSandbox() called with multiple threads in process gpu-process.\n",
      "[0126/200911.699223:INFO:headless_shell.cc(653)] Written to file /tmp/tmpa7i479z7/temp.png.\n"
     ]
    },
    {
     "name": "stdout",
     "output_type": "stream",
     "text": [
      "\n",
      "Not significant, skipping tukey test\n",
      "\n",
      "\n",
      "Error loading data; skipping analysis\n",
      "\n",
      "\n",
      "Running Analysis: Hebrew in Israel\n",
      "\n",
      "\n",
      "One-Way ANOVA: Hebrew\n",
      "               sum_sq    df         F    PR(>F)\n",
      "group       69.565261   2.0  0.642703  0.528435\n",
      "Residual  4546.020946  84.0       NaN       NaN\n",
      "\n",
      "Not significant, skipping tukey test\n",
      "Running Analysis: Telugu in India\n",
      "\n",
      "\n",
      "One-Way ANOVA: Telugu\n"
     ]
    },
    {
     "name": "stderr",
     "output_type": "stream",
     "text": [
      "[0126/200911.812164:ERROR:sandbox_linux.cc(378)] InitializeSandbox() called with multiple threads in process gpu-process.\n",
      "[0126/200911.899546:INFO:headless_shell.cc(653)] Written to file /tmp/tmpucfogclt/temp.png.\n"
     ]
    },
    {
     "name": "stdout",
     "output_type": "stream",
     "text": [
      "                sum_sq    df          F        PR(>F)\n",
      "group      8035.799505   1.0  43.076717  3.944858e-09\n",
      "Residual  15856.430380  85.0        NaN           NaN\n",
      "\n",
      "\n",
      "Tukey Test: Telugu [group]\n"
     ]
    },
    {
     "name": "stderr",
     "output_type": "stream",
     "text": [
      "[0126/200912.015011:ERROR:sandbox_linux.cc(378)] InitializeSandbox() called with multiple threads in process gpu-process.\n",
      "[0126/200912.099000:INFO:headless_shell.cc(653)] Written to file /tmp/tmp7qcg986n/temp.png.\n"
     ]
    },
    {
     "name": "stdout",
     "output_type": "stream",
     "text": [
      "    group1  group2       Diff      Lower      Upper   q-value  p-value\n",
      "0  neither  dubbed  33.259494  23.183933  43.335055  9.281887    0.001\n",
      "\n",
      "\n",
      "Shapiro-Wilk Test: Telugu\n",
      "W: 0.7258207201957703; P-Value: 1.884421264863878e-11\n",
      "Running Analysis: Canadian.French in Canada\n",
      "\n",
      "\n",
      "One-Way ANOVA: Canadian.French\n",
      "                sum_sq    df         F    PR(>F)\n",
      "group      6799.935362   2.0  7.741901  0.000821\n",
      "Residual  36889.811765  84.0       NaN       NaN\n"
     ]
    },
    {
     "name": "stderr",
     "output_type": "stream",
     "text": [
      "[0126/200912.230491:ERROR:sandbox_linux.cc(378)] InitializeSandbox() called with multiple threads in process gpu-process.\n",
      "[0126/200912.316036:INFO:headless_shell.cc(653)] Written to file /tmp/tmphnkmyc8w/temp.png.\n",
      "[0126/200912.432766:ERROR:sandbox_linux.cc(378)] InitializeSandbox() called with multiple threads in process gpu-process.\n",
      "[0126/200912.548841:INFO:headless_shell.cc(653)] Written to file /tmp/tmp66dt0_kc/temp.png.\n"
     ]
    },
    {
     "name": "stdout",
     "output_type": "stream",
     "text": [
      "\n",
      "\n",
      "Tukey Test: Canadian.French [group]\n",
      "    group1  group2       Diff      Lower       Upper   q-value   p-value\n",
      "0  neither  subbed  26.047059 -24.248454   76.342571  1.747513  0.437505\n",
      "1  neither    both  79.047059  28.751546  129.342571  5.303314  0.001000\n",
      "2   subbed    both  53.000000 -17.713849  123.713849  2.529078  0.179797\n"
     ]
    },
    {
     "name": "stderr",
     "output_type": "stream",
     "text": [
      "[0126/200912.752555:ERROR:sandbox_linux.cc(378)] InitializeSandbox() called with multiple threads in process gpu-process.\n",
      "[0126/200912.852632:INFO:headless_shell.cc(653)] Written to file /tmp/tmpbcwq4vm1/temp.png.\n"
     ]
    },
    {
     "name": "stdout",
     "output_type": "stream",
     "text": [
      "\n",
      "\n",
      "Shapiro-Wilk Test: Canadian.French\n",
      "W: 0.8128857612609863; P-Value: 3.920924918077162e-09\n",
      "Running Analysis: French in France\n",
      "\n",
      "\n",
      "One-Way ANOVA: French\n",
      "               sum_sq    df         F    PR(>F)\n",
      "group      147.255172   2.0  1.624252  0.203186\n",
      "Residual  3807.733333  84.0       NaN       NaN\n",
      "\n",
      "Not significant, skipping tukey test\n",
      "\n",
      "\n",
      "Error loading data; skipping analysis\n",
      "\n",
      "\n"
     ]
    },
    {
     "name": "stderr",
     "output_type": "stream",
     "text": [
      "[0126/200912.980836:ERROR:sandbox_linux.cc(378)] InitializeSandbox() called with multiple threads in process gpu-process.\n",
      "[0126/200913.094787:INFO:headless_shell.cc(653)] Written to file /tmp/tmpp8u55341/temp.png.\n"
     ]
    },
    {
     "data": {
      "text/plain": "[None, None, None, None, None, None, None, None, None, None, None]"
     },
     "execution_count": 106,
     "metadata": {},
     "output_type": "execute_result"
    }
   ],
   "source": [
    "[item.run_analysis() for item in analysis_list]"
   ],
   "metadata": {
    "collapsed": false,
    "pycharm": {
     "name": "#%%\n"
    }
   }
  },
  {
   "cell_type": "code",
   "execution_count": 41,
   "outputs": [],
   "source": [
    "russia_analysis = NewAnovaAnalysis(file_list[2], 'Russia')"
   ],
   "metadata": {
    "collapsed": false,
    "pycharm": {
     "name": "#%%\n"
    }
   }
  },
  {
   "cell_type": "code",
   "execution_count": 42,
   "outputs": [
    {
     "name": "stdout",
     "output_type": "stream",
     "text": [
      "Running Analysis: Russian in Russia\n",
      "\n",
      "\n",
      "One-Way ANOVA: Russian\n",
      "             sum_sq    df         F    PR(>F)\n",
      "group      0.447958   2.0  0.226802  0.797565\n",
      "Residual  82.954341  84.0       NaN       NaN\n",
      "\n",
      "Not significant, skipping tukey test\n"
     ]
    },
    {
     "name": "stderr",
     "output_type": "stream",
     "text": [
      "[0126/192602.466005:ERROR:sandbox_linux.cc(378)] InitializeSandbox() called with multiple threads in process gpu-process.\n",
      "[0126/192602.585108:INFO:headless_shell.cc(653)] Written to file /tmp/tmpambjkioc/temp.png.\n"
     ]
    }
   ],
   "source": [
    "russia_analysis.run_analysis()"
   ],
   "metadata": {
    "collapsed": false,
    "pycharm": {
     "name": "#%%\n"
    }
   }
  },
  {
   "cell_type": "code",
   "execution_count": 40,
   "outputs": [
    {
     "data": {
      "text/plain": "       Unnamed: 0         title         country  available     original_language    group group_language  group_value premiere_date    genre_1  ... Overall.ø.day Movies.Points Movies.Days Movies.ø.day Kids.Points Kids.Days Kids.ø.day Official.Points  Official.Weeks search_interest\n0              17   7-prisoners       Argentina       True  Brazilian Portuguese     both        Russian        False    2021-11-05     Dramas  ...           4.7            51           8          6.4           0         0        0.0              10               2               2\n1              38   7-prisoners       Argentina       True  Brazilian Portuguese   dubbed        Russian        False    2021-11-05     Dramas  ...           4.7            51           8          6.4           0         0        0.0              10               2               2\n2              76   7-prisoners       Argentina       True  Brazilian Portuguese  neither        Russian         True    2021-11-05     Dramas  ...           4.7            51           8          6.4           0         0        0.0              10               2               2\n3             144   7-prisoners       Argentina       True  Brazilian Portuguese   subbed        Russian        False    2021-11-05     Dramas  ...           4.7            51           8          6.4           0         0        0.0              10               2               2\n4             186   7-prisoners       Australia      False  Brazilian Portuguese   dubbed        Russian        False    2021-11-05     Dramas  ...           0.0             0           0          0.0           0         0        0.0               0               0               3\n...           ...           ...             ...        ...                   ...      ...            ...          ...           ...        ...  ...           ...           ...         ...          ...         ...       ...        ...             ...             ...             ...\n13567      596961  zero-to-hero  United Kingdom      False             Cantonese     both        Russian        False    2021-11-05  Hong Kong  ...           0.0             0           0          0.0           0         0        0.0               0               0              10\n13568      596999  zero-to-hero   United States      False             Cantonese  neither        Russian         True    2021-11-05  Hong Kong  ...           0.0             0           0          0.0           0         0        0.0               0               0               7\n13569      597083  zero-to-hero   United States      False             Cantonese     both        Russian        False    2021-11-05  Hong Kong  ...           0.0             0           0          0.0           0         0        0.0               0               0               7\n13570      597104  zero-to-hero   United States      False             Cantonese   dubbed        Russian        False    2021-11-05  Hong Kong  ...           0.0             0           0          0.0           0         0        0.0               0               0               7\n13571      597125  zero-to-hero   United States      False             Cantonese   subbed        Russian        False    2021-11-05  Hong Kong  ...           0.0             0           0          0.0           0         0        0.0               0               0               7\n\n[13572 rows x 39 columns]",
      "text/html": "<div>\n<style scoped>\n    .dataframe tbody tr th:only-of-type {\n        vertical-align: middle;\n    }\n\n    .dataframe tbody tr th {\n        vertical-align: top;\n    }\n\n    .dataframe thead th {\n        text-align: right;\n    }\n</style>\n<table border=\"1\" class=\"dataframe\">\n  <thead>\n    <tr style=\"text-align: right;\">\n      <th></th>\n      <th>Unnamed: 0</th>\n      <th>title</th>\n      <th>country</th>\n      <th>available</th>\n      <th>original_language</th>\n      <th>group</th>\n      <th>group_language</th>\n      <th>group_value</th>\n      <th>premiere_date</th>\n      <th>genre_1</th>\n      <th>...</th>\n      <th>Overall.ø.day</th>\n      <th>Movies.Points</th>\n      <th>Movies.Days</th>\n      <th>Movies.ø.day</th>\n      <th>Kids.Points</th>\n      <th>Kids.Days</th>\n      <th>Kids.ø.day</th>\n      <th>Official.Points</th>\n      <th>Official.Weeks</th>\n      <th>search_interest</th>\n    </tr>\n  </thead>\n  <tbody>\n    <tr>\n      <th>0</th>\n      <td>17</td>\n      <td>7-prisoners</td>\n      <td>Argentina</td>\n      <td>True</td>\n      <td>Brazilian Portuguese</td>\n      <td>both</td>\n      <td>Russian</td>\n      <td>False</td>\n      <td>2021-11-05</td>\n      <td>Dramas</td>\n      <td>...</td>\n      <td>4.7</td>\n      <td>51</td>\n      <td>8</td>\n      <td>6.4</td>\n      <td>0</td>\n      <td>0</td>\n      <td>0.0</td>\n      <td>10</td>\n      <td>2</td>\n      <td>2</td>\n    </tr>\n    <tr>\n      <th>1</th>\n      <td>38</td>\n      <td>7-prisoners</td>\n      <td>Argentina</td>\n      <td>True</td>\n      <td>Brazilian Portuguese</td>\n      <td>dubbed</td>\n      <td>Russian</td>\n      <td>False</td>\n      <td>2021-11-05</td>\n      <td>Dramas</td>\n      <td>...</td>\n      <td>4.7</td>\n      <td>51</td>\n      <td>8</td>\n      <td>6.4</td>\n      <td>0</td>\n      <td>0</td>\n      <td>0.0</td>\n      <td>10</td>\n      <td>2</td>\n      <td>2</td>\n    </tr>\n    <tr>\n      <th>2</th>\n      <td>76</td>\n      <td>7-prisoners</td>\n      <td>Argentina</td>\n      <td>True</td>\n      <td>Brazilian Portuguese</td>\n      <td>neither</td>\n      <td>Russian</td>\n      <td>True</td>\n      <td>2021-11-05</td>\n      <td>Dramas</td>\n      <td>...</td>\n      <td>4.7</td>\n      <td>51</td>\n      <td>8</td>\n      <td>6.4</td>\n      <td>0</td>\n      <td>0</td>\n      <td>0.0</td>\n      <td>10</td>\n      <td>2</td>\n      <td>2</td>\n    </tr>\n    <tr>\n      <th>3</th>\n      <td>144</td>\n      <td>7-prisoners</td>\n      <td>Argentina</td>\n      <td>True</td>\n      <td>Brazilian Portuguese</td>\n      <td>subbed</td>\n      <td>Russian</td>\n      <td>False</td>\n      <td>2021-11-05</td>\n      <td>Dramas</td>\n      <td>...</td>\n      <td>4.7</td>\n      <td>51</td>\n      <td>8</td>\n      <td>6.4</td>\n      <td>0</td>\n      <td>0</td>\n      <td>0.0</td>\n      <td>10</td>\n      <td>2</td>\n      <td>2</td>\n    </tr>\n    <tr>\n      <th>4</th>\n      <td>186</td>\n      <td>7-prisoners</td>\n      <td>Australia</td>\n      <td>False</td>\n      <td>Brazilian Portuguese</td>\n      <td>dubbed</td>\n      <td>Russian</td>\n      <td>False</td>\n      <td>2021-11-05</td>\n      <td>Dramas</td>\n      <td>...</td>\n      <td>0.0</td>\n      <td>0</td>\n      <td>0</td>\n      <td>0.0</td>\n      <td>0</td>\n      <td>0</td>\n      <td>0.0</td>\n      <td>0</td>\n      <td>0</td>\n      <td>3</td>\n    </tr>\n    <tr>\n      <th>...</th>\n      <td>...</td>\n      <td>...</td>\n      <td>...</td>\n      <td>...</td>\n      <td>...</td>\n      <td>...</td>\n      <td>...</td>\n      <td>...</td>\n      <td>...</td>\n      <td>...</td>\n      <td>...</td>\n      <td>...</td>\n      <td>...</td>\n      <td>...</td>\n      <td>...</td>\n      <td>...</td>\n      <td>...</td>\n      <td>...</td>\n      <td>...</td>\n      <td>...</td>\n      <td>...</td>\n    </tr>\n    <tr>\n      <th>13567</th>\n      <td>596961</td>\n      <td>zero-to-hero</td>\n      <td>United Kingdom</td>\n      <td>False</td>\n      <td>Cantonese</td>\n      <td>both</td>\n      <td>Russian</td>\n      <td>False</td>\n      <td>2021-11-05</td>\n      <td>Hong Kong</td>\n      <td>...</td>\n      <td>0.0</td>\n      <td>0</td>\n      <td>0</td>\n      <td>0.0</td>\n      <td>0</td>\n      <td>0</td>\n      <td>0.0</td>\n      <td>0</td>\n      <td>0</td>\n      <td>10</td>\n    </tr>\n    <tr>\n      <th>13568</th>\n      <td>596999</td>\n      <td>zero-to-hero</td>\n      <td>United States</td>\n      <td>False</td>\n      <td>Cantonese</td>\n      <td>neither</td>\n      <td>Russian</td>\n      <td>True</td>\n      <td>2021-11-05</td>\n      <td>Hong Kong</td>\n      <td>...</td>\n      <td>0.0</td>\n      <td>0</td>\n      <td>0</td>\n      <td>0.0</td>\n      <td>0</td>\n      <td>0</td>\n      <td>0.0</td>\n      <td>0</td>\n      <td>0</td>\n      <td>7</td>\n    </tr>\n    <tr>\n      <th>13569</th>\n      <td>597083</td>\n      <td>zero-to-hero</td>\n      <td>United States</td>\n      <td>False</td>\n      <td>Cantonese</td>\n      <td>both</td>\n      <td>Russian</td>\n      <td>False</td>\n      <td>2021-11-05</td>\n      <td>Hong Kong</td>\n      <td>...</td>\n      <td>0.0</td>\n      <td>0</td>\n      <td>0</td>\n      <td>0.0</td>\n      <td>0</td>\n      <td>0</td>\n      <td>0.0</td>\n      <td>0</td>\n      <td>0</td>\n      <td>7</td>\n    </tr>\n    <tr>\n      <th>13570</th>\n      <td>597104</td>\n      <td>zero-to-hero</td>\n      <td>United States</td>\n      <td>False</td>\n      <td>Cantonese</td>\n      <td>dubbed</td>\n      <td>Russian</td>\n      <td>False</td>\n      <td>2021-11-05</td>\n      <td>Hong Kong</td>\n      <td>...</td>\n      <td>0.0</td>\n      <td>0</td>\n      <td>0</td>\n      <td>0.0</td>\n      <td>0</td>\n      <td>0</td>\n      <td>0.0</td>\n      <td>0</td>\n      <td>0</td>\n      <td>7</td>\n    </tr>\n    <tr>\n      <th>13571</th>\n      <td>597125</td>\n      <td>zero-to-hero</td>\n      <td>United States</td>\n      <td>False</td>\n      <td>Cantonese</td>\n      <td>subbed</td>\n      <td>Russian</td>\n      <td>False</td>\n      <td>2021-11-05</td>\n      <td>Hong Kong</td>\n      <td>...</td>\n      <td>0.0</td>\n      <td>0</td>\n      <td>0</td>\n      <td>0.0</td>\n      <td>0</td>\n      <td>0</td>\n      <td>0.0</td>\n      <td>0</td>\n      <td>0</td>\n      <td>7</td>\n    </tr>\n  </tbody>\n</table>\n<p>13572 rows × 39 columns</p>\n</div>"
     },
     "execution_count": 40,
     "metadata": {},
     "output_type": "execute_result"
    }
   ],
   "source": [
    "df_list[2]"
   ],
   "metadata": {
    "collapsed": false,
    "pycharm": {
     "name": "#%%\n"
    }
   }
  },
  {
   "cell_type": "code",
   "execution_count": 55,
   "outputs": [],
   "source": [
    "vietnam_analysis = NewAnovaAnalysis(file_list[5], 'United States')"
   ],
   "metadata": {
    "collapsed": false,
    "pycharm": {
     "name": "#%%\n"
    }
   }
  },
  {
   "cell_type": "code",
   "execution_count": 50,
   "outputs": [
    {
     "data": {
      "text/plain": "array(['Argentina', 'Australia', 'Belgium', 'Brazil', 'Canada',\n       'Colombia', 'Czech Republic', 'France', 'Germany', 'Greece',\n       'Hong Kong', 'Hungary', 'Iceland', 'India', 'Israel', 'Italy',\n       'Japan', 'Lithuania', 'Malaysia', 'Mexico', 'Netherlands',\n       'Philippines', 'Poland', 'Portugal', 'Romania', 'Russia',\n       'Singapore', 'Slovakia', 'South Africa', 'South Korea', 'Spain',\n       'Sweden', 'Switzerland', 'Taiwan', 'Thailand', 'Turkey', 'Ukraine',\n       'United Kingdom', 'United States'], dtype=object)"
     },
     "execution_count": 50,
     "metadata": {},
     "output_type": "execute_result"
    }
   ],
   "source": [
    "df_list[5].country.unique()"
   ],
   "metadata": {
    "collapsed": false,
    "pycharm": {
     "name": "#%%\n"
    }
   }
  },
  {
   "cell_type": "code",
   "execution_count": 56,
   "outputs": [
    {
     "name": "stdout",
     "output_type": "stream",
     "text": [
      "Running Analysis: Vietnamese in United States\n",
      "\n",
      "\n",
      "One-Way ANOVA: Vietnamese\n",
      "                sum_sq    df         F    PR(>F)\n",
      "group         8.294523   2.0  0.010693  0.989366\n",
      "Residual  32580.188235  84.0       NaN       NaN\n",
      "\n",
      "Not significant, skipping tukey test\n"
     ]
    },
    {
     "name": "stderr",
     "output_type": "stream",
     "text": [
      "[0126/192852.924379:ERROR:sandbox_linux.cc(378)] InitializeSandbox() called with multiple threads in process gpu-process.\n",
      "[0126/192853.030751:INFO:headless_shell.cc(653)] Written to file /tmp/tmpvnst9lbt/temp.png.\n"
     ]
    }
   ],
   "source": [
    "vietnam_analysis.run_analysis()"
   ],
   "metadata": {
    "collapsed": false,
    "pycharm": {
     "name": "#%%\n"
    }
   }
  },
  {
   "cell_type": "code",
   "execution_count": 81,
   "outputs": [],
   "source": [
    "fin_analysis = NewAnovaAnalysis('wade_anova_df_11.csv', 'Sweden')"
   ],
   "metadata": {
    "collapsed": false,
    "pycharm": {
     "name": "#%%\n"
    }
   }
  },
  {
   "cell_type": "code",
   "execution_count": 80,
   "outputs": [
    {
     "data": {
      "text/plain": "       Unnamed: 0         title        country  available     original_language    group group_language  group_value premiere_date    genre_1  ... Overall.ø.day Movies.Points Movies.Days Movies.ø.day Kids.Points Kids.Days Kids.ø.day Official.Points  Official.Weeks search_interest\n1             129   7-prisoners      Argentina       True  Brazilian Portuguese  neither        Finnish         True    2021-11-05     Dramas  ...           4.7            51           8          6.4           0         0        0.0              10               2               2\n9             428   7-prisoners        Belgium       True  Brazilian Portuguese  neither        Finnish         True    2021-11-05     Dramas  ...           0.0            12           3          4.0           0         0        0.0               0               0              24\n14            630   7-prisoners         Brazil       True  Brazilian Portuguese  neither        Finnish         True    2021-11-05     Dramas  ...           7.7            68           8          8.5           0         0        0.0              13               2               1\n21            955   7-prisoners       Colombia       True  Brazilian Portuguese  neither        Finnish         True    2021-11-05     Dramas  ...           2.5            27           6          4.5           0         0        0.0               0               0               0\n31           1378   7-prisoners         France       True  Brazilian Portuguese  neither        Finnish         True    2021-11-05     Dramas  ...           0.0            23           6          3.8           0         0        0.0               0               0               3\n...           ...           ...            ...        ...                   ...      ...            ...          ...           ...        ...  ...           ...           ...         ...          ...         ...       ...        ...             ...             ...             ...\n13415      590303          yara  United States       True               Italian  neither        Finnish         True    2021-10-18    Italian  ...           0.0            25           7          3.6           0         0        0.0               0               0               7\n13459      592229  zero-to-hero      Hong Kong       True             Cantonese  neither        Finnish         True    2021-11-05  Hong Kong  ...           7.1           194          30          6.5           0         0        0.0              32               6              68\n13491      593642  zero-to-hero       Malaysia       True             Cantonese  neither        Finnish         True    2021-11-05  Hong Kong  ...           0.0             5           3          1.7           0         0        0.0               1               1              52\n13523      595013  zero-to-hero      Singapore       True             Cantonese  neither        Finnish         True    2021-11-05  Hong Kong  ...           1.0            45           8          5.6         112        13        8.6               7               1             100\n13551      596273  zero-to-hero         Taiwan       True             Cantonese  neither        Finnish         True    2021-11-05  Hong Kong  ...           0.0            41           7          5.9           0         0        0.0               6               1               0\n\n[1983 rows x 39 columns]",
      "text/html": "<div>\n<style scoped>\n    .dataframe tbody tr th:only-of-type {\n        vertical-align: middle;\n    }\n\n    .dataframe tbody tr th {\n        vertical-align: top;\n    }\n\n    .dataframe thead th {\n        text-align: right;\n    }\n</style>\n<table border=\"1\" class=\"dataframe\">\n  <thead>\n    <tr style=\"text-align: right;\">\n      <th></th>\n      <th>Unnamed: 0</th>\n      <th>title</th>\n      <th>country</th>\n      <th>available</th>\n      <th>original_language</th>\n      <th>group</th>\n      <th>group_language</th>\n      <th>group_value</th>\n      <th>premiere_date</th>\n      <th>genre_1</th>\n      <th>...</th>\n      <th>Overall.ø.day</th>\n      <th>Movies.Points</th>\n      <th>Movies.Days</th>\n      <th>Movies.ø.day</th>\n      <th>Kids.Points</th>\n      <th>Kids.Days</th>\n      <th>Kids.ø.day</th>\n      <th>Official.Points</th>\n      <th>Official.Weeks</th>\n      <th>search_interest</th>\n    </tr>\n  </thead>\n  <tbody>\n    <tr>\n      <th>1</th>\n      <td>129</td>\n      <td>7-prisoners</td>\n      <td>Argentina</td>\n      <td>True</td>\n      <td>Brazilian Portuguese</td>\n      <td>neither</td>\n      <td>Finnish</td>\n      <td>True</td>\n      <td>2021-11-05</td>\n      <td>Dramas</td>\n      <td>...</td>\n      <td>4.7</td>\n      <td>51</td>\n      <td>8</td>\n      <td>6.4</td>\n      <td>0</td>\n      <td>0</td>\n      <td>0.0</td>\n      <td>10</td>\n      <td>2</td>\n      <td>2</td>\n    </tr>\n    <tr>\n      <th>9</th>\n      <td>428</td>\n      <td>7-prisoners</td>\n      <td>Belgium</td>\n      <td>True</td>\n      <td>Brazilian Portuguese</td>\n      <td>neither</td>\n      <td>Finnish</td>\n      <td>True</td>\n      <td>2021-11-05</td>\n      <td>Dramas</td>\n      <td>...</td>\n      <td>0.0</td>\n      <td>12</td>\n      <td>3</td>\n      <td>4.0</td>\n      <td>0</td>\n      <td>0</td>\n      <td>0.0</td>\n      <td>0</td>\n      <td>0</td>\n      <td>24</td>\n    </tr>\n    <tr>\n      <th>14</th>\n      <td>630</td>\n      <td>7-prisoners</td>\n      <td>Brazil</td>\n      <td>True</td>\n      <td>Brazilian Portuguese</td>\n      <td>neither</td>\n      <td>Finnish</td>\n      <td>True</td>\n      <td>2021-11-05</td>\n      <td>Dramas</td>\n      <td>...</td>\n      <td>7.7</td>\n      <td>68</td>\n      <td>8</td>\n      <td>8.5</td>\n      <td>0</td>\n      <td>0</td>\n      <td>0.0</td>\n      <td>13</td>\n      <td>2</td>\n      <td>1</td>\n    </tr>\n    <tr>\n      <th>21</th>\n      <td>955</td>\n      <td>7-prisoners</td>\n      <td>Colombia</td>\n      <td>True</td>\n      <td>Brazilian Portuguese</td>\n      <td>neither</td>\n      <td>Finnish</td>\n      <td>True</td>\n      <td>2021-11-05</td>\n      <td>Dramas</td>\n      <td>...</td>\n      <td>2.5</td>\n      <td>27</td>\n      <td>6</td>\n      <td>4.5</td>\n      <td>0</td>\n      <td>0</td>\n      <td>0.0</td>\n      <td>0</td>\n      <td>0</td>\n      <td>0</td>\n    </tr>\n    <tr>\n      <th>31</th>\n      <td>1378</td>\n      <td>7-prisoners</td>\n      <td>France</td>\n      <td>True</td>\n      <td>Brazilian Portuguese</td>\n      <td>neither</td>\n      <td>Finnish</td>\n      <td>True</td>\n      <td>2021-11-05</td>\n      <td>Dramas</td>\n      <td>...</td>\n      <td>0.0</td>\n      <td>23</td>\n      <td>6</td>\n      <td>3.8</td>\n      <td>0</td>\n      <td>0</td>\n      <td>0.0</td>\n      <td>0</td>\n      <td>0</td>\n      <td>3</td>\n    </tr>\n    <tr>\n      <th>...</th>\n      <td>...</td>\n      <td>...</td>\n      <td>...</td>\n      <td>...</td>\n      <td>...</td>\n      <td>...</td>\n      <td>...</td>\n      <td>...</td>\n      <td>...</td>\n      <td>...</td>\n      <td>...</td>\n      <td>...</td>\n      <td>...</td>\n      <td>...</td>\n      <td>...</td>\n      <td>...</td>\n      <td>...</td>\n      <td>...</td>\n      <td>...</td>\n      <td>...</td>\n      <td>...</td>\n    </tr>\n    <tr>\n      <th>13415</th>\n      <td>590303</td>\n      <td>yara</td>\n      <td>United States</td>\n      <td>True</td>\n      <td>Italian</td>\n      <td>neither</td>\n      <td>Finnish</td>\n      <td>True</td>\n      <td>2021-10-18</td>\n      <td>Italian</td>\n      <td>...</td>\n      <td>0.0</td>\n      <td>25</td>\n      <td>7</td>\n      <td>3.6</td>\n      <td>0</td>\n      <td>0</td>\n      <td>0.0</td>\n      <td>0</td>\n      <td>0</td>\n      <td>7</td>\n    </tr>\n    <tr>\n      <th>13459</th>\n      <td>592229</td>\n      <td>zero-to-hero</td>\n      <td>Hong Kong</td>\n      <td>True</td>\n      <td>Cantonese</td>\n      <td>neither</td>\n      <td>Finnish</td>\n      <td>True</td>\n      <td>2021-11-05</td>\n      <td>Hong Kong</td>\n      <td>...</td>\n      <td>7.1</td>\n      <td>194</td>\n      <td>30</td>\n      <td>6.5</td>\n      <td>0</td>\n      <td>0</td>\n      <td>0.0</td>\n      <td>32</td>\n      <td>6</td>\n      <td>68</td>\n    </tr>\n    <tr>\n      <th>13491</th>\n      <td>593642</td>\n      <td>zero-to-hero</td>\n      <td>Malaysia</td>\n      <td>True</td>\n      <td>Cantonese</td>\n      <td>neither</td>\n      <td>Finnish</td>\n      <td>True</td>\n      <td>2021-11-05</td>\n      <td>Hong Kong</td>\n      <td>...</td>\n      <td>0.0</td>\n      <td>5</td>\n      <td>3</td>\n      <td>1.7</td>\n      <td>0</td>\n      <td>0</td>\n      <td>0.0</td>\n      <td>1</td>\n      <td>1</td>\n      <td>52</td>\n    </tr>\n    <tr>\n      <th>13523</th>\n      <td>595013</td>\n      <td>zero-to-hero</td>\n      <td>Singapore</td>\n      <td>True</td>\n      <td>Cantonese</td>\n      <td>neither</td>\n      <td>Finnish</td>\n      <td>True</td>\n      <td>2021-11-05</td>\n      <td>Hong Kong</td>\n      <td>...</td>\n      <td>1.0</td>\n      <td>45</td>\n      <td>8</td>\n      <td>5.6</td>\n      <td>112</td>\n      <td>13</td>\n      <td>8.6</td>\n      <td>7</td>\n      <td>1</td>\n      <td>100</td>\n    </tr>\n    <tr>\n      <th>13551</th>\n      <td>596273</td>\n      <td>zero-to-hero</td>\n      <td>Taiwan</td>\n      <td>True</td>\n      <td>Cantonese</td>\n      <td>neither</td>\n      <td>Finnish</td>\n      <td>True</td>\n      <td>2021-11-05</td>\n      <td>Hong Kong</td>\n      <td>...</td>\n      <td>0.0</td>\n      <td>41</td>\n      <td>7</td>\n      <td>5.9</td>\n      <td>0</td>\n      <td>0</td>\n      <td>0.0</td>\n      <td>6</td>\n      <td>1</td>\n      <td>0</td>\n    </tr>\n  </tbody>\n</table>\n<p>1983 rows × 39 columns</p>\n</div>"
     },
     "execution_count": 80,
     "metadata": {},
     "output_type": "execute_result"
    }
   ],
   "source": [
    "df = df_list[-1]\n",
    "sorted_df = df[df.group_value == True]\n",
    "sorted_df[sorted_df.available == True]"
   ],
   "metadata": {
    "collapsed": false,
    "pycharm": {
     "name": "#%%\n"
    }
   }
  },
  {
   "cell_type": "code",
   "execution_count": 82,
   "outputs": [
    {
     "name": "stdout",
     "output_type": "stream",
     "text": [
      "Running Analysis: Finnish in Sweden\n",
      "\n",
      "\n",
      "One-Way ANOVA: Finnish\n",
      "               sum_sq    df         F    PR(>F)\n",
      "group        8.105389   2.0  0.034314  0.966281\n",
      "Residual  9920.883117  84.0       NaN       NaN\n",
      "\n",
      "Not significant, skipping tukey test\n"
     ]
    },
    {
     "name": "stderr",
     "output_type": "stream",
     "text": [
      "[0126/194539.025151:ERROR:sandbox_linux.cc(378)] InitializeSandbox() called with multiple threads in process gpu-process.\n",
      "[0126/194539.105971:INFO:headless_shell.cc(653)] Written to file /tmp/tmp8plk74rb/temp.png.\n"
     ]
    }
   ],
   "source": [
    "fin_analysis.run_analysis()"
   ],
   "metadata": {
    "collapsed": false,
    "pycharm": {
     "name": "#%%\n"
    }
   }
  },
  {
   "cell_type": "code",
   "execution_count": 67,
   "outputs": [
    {
     "data": {
      "text/plain": "array(['Netherlands'], dtype=object)"
     },
     "execution_count": 67,
     "metadata": {},
     "output_type": "execute_result"
    }
   ],
   "source": [
    "fin_analysis.dataframe.country.unique()"
   ],
   "metadata": {
    "collapsed": false,
    "pycharm": {
     "name": "#%%\n"
    }
   }
  },
  {
   "cell_type": "code",
   "execution_count": null,
   "outputs": [],
   "source": [],
   "metadata": {
    "collapsed": false,
    "pycharm": {
     "name": "#%%\n"
    }
   }
  },
  {
   "cell_type": "code",
   "execution_count": null,
   "outputs": [],
   "source": [],
   "metadata": {
    "collapsed": false,
    "pycharm": {
     "name": "#%%\n"
    }
   }
  },
  {
   "cell_type": "code",
   "execution_count": null,
   "outputs": [],
   "source": [],
   "metadata": {
    "collapsed": false,
    "pycharm": {
     "name": "#%%\n"
    }
   }
  },
  {
   "cell_type": "code",
   "execution_count": 83,
   "outputs": [],
   "source": [
    "import seaborn as sns"
   ],
   "metadata": {
    "collapsed": false,
    "pycharm": {
     "name": "#%%\n"
    }
   }
  },
  {
   "cell_type": "code",
   "execution_count": 109,
   "outputs": [],
   "source": [
    "sample_analysis = analysis_list[1]"
   ],
   "metadata": {
    "collapsed": false,
    "pycharm": {
     "name": "#%%\n"
    }
   }
  },
  {
   "cell_type": "code",
   "execution_count": 110,
   "outputs": [
    {
     "data": {
      "text/plain": "                        title   country  available     original_language    group group_language  search_interest\n93                7-prisoners  Portugal       True  Brazilian Portuguese   subbed     Portuguese               12\n250    a-classic-horror-story  Portugal       True               Italian     both     Portuguese               16\n404             a-perfect-fit  Portugal       True            Indonesian     both     Portuguese                0\n561           a-world-without  Portugal      False            Indonesian     both     Portuguese                4\n719    afterlife-of-the-party  Portugal       True               English     both     Portuguese               12\n...                       ...       ...        ...                   ...      ...            ...              ...\n12887             wish-dragon  Portugal       True               English     both     Portuguese                5\n13043                   worth  Portugal      False               English  neither     Portuguese                6\n13197                  xtreme  Portugal       True      European Spanish     both     Portuguese                7\n13354                    yara  Portugal       True               Italian     both     Portuguese               12\n13508            zero-to-hero  Portugal      False             Cantonese   subbed     Portuguese                0\n\n[87 rows x 7 columns]",
      "text/html": "<div>\n<style scoped>\n    .dataframe tbody tr th:only-of-type {\n        vertical-align: middle;\n    }\n\n    .dataframe tbody tr th {\n        vertical-align: top;\n    }\n\n    .dataframe thead th {\n        text-align: right;\n    }\n</style>\n<table border=\"1\" class=\"dataframe\">\n  <thead>\n    <tr style=\"text-align: right;\">\n      <th></th>\n      <th>title</th>\n      <th>country</th>\n      <th>available</th>\n      <th>original_language</th>\n      <th>group</th>\n      <th>group_language</th>\n      <th>search_interest</th>\n    </tr>\n  </thead>\n  <tbody>\n    <tr>\n      <th>93</th>\n      <td>7-prisoners</td>\n      <td>Portugal</td>\n      <td>True</td>\n      <td>Brazilian Portuguese</td>\n      <td>subbed</td>\n      <td>Portuguese</td>\n      <td>12</td>\n    </tr>\n    <tr>\n      <th>250</th>\n      <td>a-classic-horror-story</td>\n      <td>Portugal</td>\n      <td>True</td>\n      <td>Italian</td>\n      <td>both</td>\n      <td>Portuguese</td>\n      <td>16</td>\n    </tr>\n    <tr>\n      <th>404</th>\n      <td>a-perfect-fit</td>\n      <td>Portugal</td>\n      <td>True</td>\n      <td>Indonesian</td>\n      <td>both</td>\n      <td>Portuguese</td>\n      <td>0</td>\n    </tr>\n    <tr>\n      <th>561</th>\n      <td>a-world-without</td>\n      <td>Portugal</td>\n      <td>False</td>\n      <td>Indonesian</td>\n      <td>both</td>\n      <td>Portuguese</td>\n      <td>4</td>\n    </tr>\n    <tr>\n      <th>719</th>\n      <td>afterlife-of-the-party</td>\n      <td>Portugal</td>\n      <td>True</td>\n      <td>English</td>\n      <td>both</td>\n      <td>Portuguese</td>\n      <td>12</td>\n    </tr>\n    <tr>\n      <th>...</th>\n      <td>...</td>\n      <td>...</td>\n      <td>...</td>\n      <td>...</td>\n      <td>...</td>\n      <td>...</td>\n      <td>...</td>\n    </tr>\n    <tr>\n      <th>12887</th>\n      <td>wish-dragon</td>\n      <td>Portugal</td>\n      <td>True</td>\n      <td>English</td>\n      <td>both</td>\n      <td>Portuguese</td>\n      <td>5</td>\n    </tr>\n    <tr>\n      <th>13043</th>\n      <td>worth</td>\n      <td>Portugal</td>\n      <td>False</td>\n      <td>English</td>\n      <td>neither</td>\n      <td>Portuguese</td>\n      <td>6</td>\n    </tr>\n    <tr>\n      <th>13197</th>\n      <td>xtreme</td>\n      <td>Portugal</td>\n      <td>True</td>\n      <td>European Spanish</td>\n      <td>both</td>\n      <td>Portuguese</td>\n      <td>7</td>\n    </tr>\n    <tr>\n      <th>13354</th>\n      <td>yara</td>\n      <td>Portugal</td>\n      <td>True</td>\n      <td>Italian</td>\n      <td>both</td>\n      <td>Portuguese</td>\n      <td>12</td>\n    </tr>\n    <tr>\n      <th>13508</th>\n      <td>zero-to-hero</td>\n      <td>Portugal</td>\n      <td>False</td>\n      <td>Cantonese</td>\n      <td>subbed</td>\n      <td>Portuguese</td>\n      <td>0</td>\n    </tr>\n  </tbody>\n</table>\n<p>87 rows × 7 columns</p>\n</div>"
     },
     "execution_count": 110,
     "metadata": {},
     "output_type": "execute_result"
    }
   ],
   "source": [
    "sample_analysis.dataframe"
   ],
   "metadata": {
    "collapsed": false,
    "pycharm": {
     "name": "#%%\n"
    }
   }
  },
  {
   "cell_type": "code",
   "execution_count": 119,
   "outputs": [
    {
     "ename": "TypeError",
     "evalue": "Cannot cast array data from dtype('O') to dtype('float64') according to the rule 'safe'",
     "output_type": "error",
     "traceback": [
      "\u001B[0;31m---------------------------------------------------------------------------\u001B[0m",
      "\u001B[0;31mTypeError\u001B[0m                                 Traceback (most recent call last)",
      "\u001B[0;32m/tmp/ipykernel_44883/2480285214.py\u001B[0m in \u001B[0;36m<module>\u001B[0;34m\u001B[0m\n\u001B[1;32m      1\u001B[0m \u001B[0;32mfrom\u001B[0m \u001B[0mstatsmodels\u001B[0m\u001B[0;34m.\u001B[0m\u001B[0mstats\u001B[0m\u001B[0;34m.\u001B[0m\u001B[0mmulticomp\u001B[0m \u001B[0;32mimport\u001B[0m \u001B[0mpairwise_tukeyhsd\u001B[0m\u001B[0;34m\u001B[0m\u001B[0;34m\u001B[0m\u001B[0m\n\u001B[0;32m----> 2\u001B[0;31m \u001B[0mcomp\u001B[0m \u001B[0;34m=\u001B[0m \u001B[0mpairwise_tukeyhsd\u001B[0m\u001B[0;34m(\u001B[0m\u001B[0msample_analysis\u001B[0m\u001B[0;34m.\u001B[0m\u001B[0mdataframe\u001B[0m\u001B[0;34m,\u001B[0m \u001B[0msample_analysis\u001B[0m\u001B[0;34m.\u001B[0m\u001B[0mdataframe\u001B[0m\u001B[0;34m[\u001B[0m\u001B[0;34m'group'\u001B[0m\u001B[0;34m]\u001B[0m\u001B[0;34m)\u001B[0m\u001B[0;34m\u001B[0m\u001B[0;34m\u001B[0m\u001B[0m\n\u001B[0m",
      "\u001B[0;32m~/anaconda3/envs/chetflix-3.9/lib/python3.9/site-packages/statsmodels/stats/multicomp.py\u001B[0m in \u001B[0;36mpairwise_tukeyhsd\u001B[0;34m(endog, groups, alpha)\u001B[0m\n\u001B[1;32m     42\u001B[0m     \"\"\"\n\u001B[1;32m     43\u001B[0m \u001B[0;34m\u001B[0m\u001B[0m\n\u001B[0;32m---> 44\u001B[0;31m     \u001B[0;32mreturn\u001B[0m \u001B[0mMultiComparison\u001B[0m\u001B[0;34m(\u001B[0m\u001B[0mendog\u001B[0m\u001B[0;34m,\u001B[0m \u001B[0mgroups\u001B[0m\u001B[0;34m)\u001B[0m\u001B[0;34m.\u001B[0m\u001B[0mtukeyhsd\u001B[0m\u001B[0;34m(\u001B[0m\u001B[0malpha\u001B[0m\u001B[0;34m=\u001B[0m\u001B[0malpha\u001B[0m\u001B[0;34m)\u001B[0m\u001B[0;34m\u001B[0m\u001B[0;34m\u001B[0m\u001B[0m\n\u001B[0m",
      "\u001B[0;32m~/anaconda3/envs/chetflix-3.9/lib/python3.9/site-packages/statsmodels/sandbox/stats/multicomp.py\u001B[0m in \u001B[0;36mtukeyhsd\u001B[0;34m(self, alpha)\u001B[0m\n\u001B[1;32m    975\u001B[0m             \u001B[0mcalculations\u001B[0m\u001B[0;34m\u001B[0m\u001B[0;34m\u001B[0m\u001B[0m\n\u001B[1;32m    976\u001B[0m         \"\"\"\n\u001B[0;32m--> 977\u001B[0;31m         self.groupstats = GroupsStats(\n\u001B[0m\u001B[1;32m    978\u001B[0m             \u001B[0mnp\u001B[0m\u001B[0;34m.\u001B[0m\u001B[0mcolumn_stack\u001B[0m\u001B[0;34m(\u001B[0m\u001B[0;34m[\u001B[0m\u001B[0mself\u001B[0m\u001B[0;34m.\u001B[0m\u001B[0mdata\u001B[0m\u001B[0;34m,\u001B[0m \u001B[0mself\u001B[0m\u001B[0;34m.\u001B[0m\u001B[0mgroupintlab\u001B[0m\u001B[0;34m]\u001B[0m\u001B[0;34m)\u001B[0m\u001B[0;34m,\u001B[0m\u001B[0;34m\u001B[0m\u001B[0;34m\u001B[0m\u001B[0m\n\u001B[1;32m    979\u001B[0m             useranks=False)\n",
      "\u001B[0;32m~/anaconda3/envs/chetflix-3.9/lib/python3.9/site-packages/statsmodels/sandbox/stats/multicomp.py\u001B[0m in \u001B[0;36m__init__\u001B[0;34m(self, x, useranks, uni, intlab)\u001B[0m\n\u001B[1;32m    543\u001B[0m \u001B[0;34m\u001B[0m\u001B[0m\n\u001B[1;32m    544\u001B[0m         \u001B[0;31m#temporary until separated and made all lazy\u001B[0m\u001B[0;34m\u001B[0m\u001B[0;34m\u001B[0m\u001B[0m\n\u001B[0;32m--> 545\u001B[0;31m         \u001B[0mself\u001B[0m\u001B[0;34m.\u001B[0m\u001B[0mrunbasic\u001B[0m\u001B[0;34m(\u001B[0m\u001B[0museranks\u001B[0m\u001B[0;34m=\u001B[0m\u001B[0museranks\u001B[0m\u001B[0;34m)\u001B[0m\u001B[0;34m\u001B[0m\u001B[0;34m\u001B[0m\u001B[0m\n\u001B[0m\u001B[1;32m    546\u001B[0m \u001B[0;34m\u001B[0m\u001B[0m\n\u001B[1;32m    547\u001B[0m \u001B[0;34m\u001B[0m\u001B[0m\n",
      "\u001B[0;32m~/anaconda3/envs/chetflix-3.9/lib/python3.9/site-packages/statsmodels/sandbox/stats/multicomp.py\u001B[0m in \u001B[0;36mrunbasic\u001B[0;34m(self, useranks)\u001B[0m\n\u001B[1;32m    579\u001B[0m         \u001B[0;32melse\u001B[0m\u001B[0;34m:\u001B[0m\u001B[0;34m\u001B[0m\u001B[0;34m\u001B[0m\u001B[0m\n\u001B[1;32m    580\u001B[0m             \u001B[0mself\u001B[0m\u001B[0;34m.\u001B[0m\u001B[0mxx\u001B[0m \u001B[0;34m=\u001B[0m \u001B[0mx\u001B[0m\u001B[0;34m[\u001B[0m\u001B[0;34m:\u001B[0m\u001B[0;34m,\u001B[0m\u001B[0;36m0\u001B[0m\u001B[0;34m]\u001B[0m\u001B[0;34m\u001B[0m\u001B[0;34m\u001B[0m\u001B[0m\n\u001B[0;32m--> 581\u001B[0;31m         \u001B[0mself\u001B[0m\u001B[0;34m.\u001B[0m\u001B[0mgroupsum\u001B[0m \u001B[0;34m=\u001B[0m \u001B[0mgroupranksum\u001B[0m \u001B[0;34m=\u001B[0m \u001B[0mnp\u001B[0m\u001B[0;34m.\u001B[0m\u001B[0mbincount\u001B[0m\u001B[0;34m(\u001B[0m\u001B[0mself\u001B[0m\u001B[0;34m.\u001B[0m\u001B[0mintlab\u001B[0m\u001B[0;34m,\u001B[0m \u001B[0mweights\u001B[0m\u001B[0;34m=\u001B[0m\u001B[0mself\u001B[0m\u001B[0;34m.\u001B[0m\u001B[0mxx\u001B[0m\u001B[0;34m)\u001B[0m\u001B[0;34m\u001B[0m\u001B[0;34m\u001B[0m\u001B[0m\n\u001B[0m\u001B[1;32m    582\u001B[0m         \u001B[0;31m#print('groupranksum', groupranksum, groupranksum.shape, self.groupnobs.shape\u001B[0m\u001B[0;34m\u001B[0m\u001B[0;34m\u001B[0m\u001B[0m\n\u001B[1;32m    583\u001B[0m         \u001B[0;31m# start at 1 for stats.rankdata :\u001B[0m\u001B[0;34m\u001B[0m\u001B[0;34m\u001B[0m\u001B[0m\n",
      "\u001B[0;32m<__array_function__ internals>\u001B[0m in \u001B[0;36mbincount\u001B[0;34m(*args, **kwargs)\u001B[0m\n",
      "\u001B[0;31mTypeError\u001B[0m: Cannot cast array data from dtype('O') to dtype('float64') according to the rule 'safe'"
     ]
    }
   ],
   "source": [
    "from statsmodels.stats.multicomp import pairwise_tukeyhsd\n",
    "comp = pairwise_tukeyhsd(sample_analysis.dataframe, sample_analysis.dataframe['group'])"
   ],
   "metadata": {
    "collapsed": false,
    "pycharm": {
     "name": "#%%\n"
    }
   }
  },
  {
   "cell_type": "code",
   "execution_count": null,
   "outputs": [],
   "source": [],
   "metadata": {
    "collapsed": false,
    "pycharm": {
     "name": "#%%\n"
    }
   }
  },
  {
   "cell_type": "code",
   "execution_count": null,
   "outputs": [],
   "source": [],
   "metadata": {
    "collapsed": false,
    "pycharm": {
     "name": "#%%\n"
    }
   }
  },
  {
   "cell_type": "code",
   "execution_count": null,
   "outputs": [],
   "source": [],
   "metadata": {
    "collapsed": false,
    "pycharm": {
     "name": "#%%\n"
    }
   }
  },
  {
   "cell_type": "code",
   "execution_count": 107,
   "outputs": [
    {
     "name": "stdout",
     "output_type": "stream",
     "text": [
      "\n",
      "\n",
      "Tukey Test: Portuguese [group]\n"
     ]
    }
   ],
   "source": [
    "sample_tukey = analysis_list[1].run_tukey_test('group')"
   ],
   "metadata": {
    "collapsed": false,
    "pycharm": {
     "name": "#%%\n"
    }
   }
  },
  {
   "cell_type": "code",
   "execution_count": 108,
   "outputs": [
    {
     "data": {
      "text/plain": "(   group1   group2      Diff     Lower      Upper   q-value   p-value\n 0  subbed     both  3.872068  0.201900   7.542236  3.559983  0.036226\n 1  subbed  neither  4.023810 -2.070439  10.118058  2.227964  0.262214\n 2    both  neither  0.151741 -5.170484   5.473966  0.096206  0.900000,\n None)"
     },
     "execution_count": 108,
     "metadata": {},
     "output_type": "execute_result"
    }
   ],
   "source": [
    "sample_tukey"
   ],
   "metadata": {
    "collapsed": false,
    "pycharm": {
     "name": "#%%\n"
    }
   }
  },
  {
   "cell_type": "code",
   "execution_count": 103,
   "outputs": [
    {
     "ename": "AttributeError",
     "evalue": "'DataFrame' object has no attribute 'plot_simultaneous'",
     "output_type": "error",
     "traceback": [
      "\u001B[0;31m---------------------------------------------------------------------------\u001B[0m",
      "\u001B[0;31mAttributeError\u001B[0m                            Traceback (most recent call last)",
      "\u001B[0;32m/tmp/ipykernel_44883/2817363566.py\u001B[0m in \u001B[0;36m<module>\u001B[0;34m\u001B[0m\n\u001B[0;32m----> 1\u001B[0;31m \u001B[0msample_tukey\u001B[0m\u001B[0;34m.\u001B[0m\u001B[0mplot_simultaneous\u001B[0m\u001B[0;34m\u001B[0m\u001B[0;34m\u001B[0m\u001B[0m\n\u001B[0m",
      "\u001B[0;32m~/anaconda3/envs/chetflix-3.9/lib/python3.9/site-packages/pandas/core/generic.py\u001B[0m in \u001B[0;36m__getattr__\u001B[0;34m(self, name)\u001B[0m\n\u001B[1;32m   5485\u001B[0m         ):\n\u001B[1;32m   5486\u001B[0m             \u001B[0;32mreturn\u001B[0m \u001B[0mself\u001B[0m\u001B[0;34m[\u001B[0m\u001B[0mname\u001B[0m\u001B[0;34m]\u001B[0m\u001B[0;34m\u001B[0m\u001B[0;34m\u001B[0m\u001B[0m\n\u001B[0;32m-> 5487\u001B[0;31m         \u001B[0;32mreturn\u001B[0m \u001B[0mobject\u001B[0m\u001B[0;34m.\u001B[0m\u001B[0m__getattribute__\u001B[0m\u001B[0;34m(\u001B[0m\u001B[0mself\u001B[0m\u001B[0;34m,\u001B[0m \u001B[0mname\u001B[0m\u001B[0;34m)\u001B[0m\u001B[0;34m\u001B[0m\u001B[0;34m\u001B[0m\u001B[0m\n\u001B[0m\u001B[1;32m   5488\u001B[0m \u001B[0;34m\u001B[0m\u001B[0m\n\u001B[1;32m   5489\u001B[0m     \u001B[0;32mdef\u001B[0m \u001B[0m__setattr__\u001B[0m\u001B[0;34m(\u001B[0m\u001B[0mself\u001B[0m\u001B[0;34m,\u001B[0m \u001B[0mname\u001B[0m\u001B[0;34m:\u001B[0m \u001B[0mstr\u001B[0m\u001B[0;34m,\u001B[0m \u001B[0mvalue\u001B[0m\u001B[0;34m)\u001B[0m \u001B[0;34m->\u001B[0m \u001B[0;32mNone\u001B[0m\u001B[0;34m:\u001B[0m\u001B[0;34m\u001B[0m\u001B[0;34m\u001B[0m\u001B[0m\n",
      "\u001B[0;31mAttributeError\u001B[0m: 'DataFrame' object has no attribute 'plot_simultaneous'"
     ]
    }
   ],
   "source": [
    "sample_tukey.plot_simultaneous"
   ],
   "metadata": {
    "collapsed": false,
    "pycharm": {
     "name": "#%%\n"
    }
   }
  },
  {
   "cell_type": "code",
   "execution_count": 124,
   "outputs": [
    {
     "ename": "ValueError",
     "evalue": "min() arg is an empty sequence",
     "output_type": "error",
     "traceback": [
      "\u001B[0;31m---------------------------------------------------------------------------\u001B[0m",
      "\u001B[0;31mValueError\u001B[0m                                Traceback (most recent call last)",
      "\u001B[0;32m/tmp/ipykernel_44883/4097648537.py\u001B[0m in \u001B[0;36m<module>\u001B[0;34m\u001B[0m\n\u001B[0;32m----> 1\u001B[0;31m \u001B[0msns\u001B[0m\u001B[0;34m.\u001B[0m\u001B[0mpointplot\u001B[0m\u001B[0;34m(\u001B[0m\u001B[0mdata\u001B[0m\u001B[0;34m=\u001B[0m\u001B[0msample_tukey\u001B[0m\u001B[0;34m[\u001B[0m\u001B[0;36m0\u001B[0m\u001B[0;34m]\u001B[0m\u001B[0;34m.\u001B[0m\u001B[0mmelt\u001B[0m\u001B[0;34m(\u001B[0m\u001B[0;34m)\u001B[0m\u001B[0;34m)\u001B[0m\u001B[0;34m\u001B[0m\u001B[0;34m\u001B[0m\u001B[0m\n\u001B[0m",
      "\u001B[0;32m~/anaconda3/envs/chetflix-3.9/lib/python3.9/site-packages/seaborn/_decorators.py\u001B[0m in \u001B[0;36minner_f\u001B[0;34m(*args, **kwargs)\u001B[0m\n\u001B[1;32m     44\u001B[0m             )\n\u001B[1;32m     45\u001B[0m         \u001B[0mkwargs\u001B[0m\u001B[0;34m.\u001B[0m\u001B[0mupdate\u001B[0m\u001B[0;34m(\u001B[0m\u001B[0;34m{\u001B[0m\u001B[0mk\u001B[0m\u001B[0;34m:\u001B[0m \u001B[0marg\u001B[0m \u001B[0;32mfor\u001B[0m \u001B[0mk\u001B[0m\u001B[0;34m,\u001B[0m \u001B[0marg\u001B[0m \u001B[0;32min\u001B[0m \u001B[0mzip\u001B[0m\u001B[0;34m(\u001B[0m\u001B[0msig\u001B[0m\u001B[0;34m.\u001B[0m\u001B[0mparameters\u001B[0m\u001B[0;34m,\u001B[0m \u001B[0margs\u001B[0m\u001B[0;34m)\u001B[0m\u001B[0;34m}\u001B[0m\u001B[0;34m)\u001B[0m\u001B[0;34m\u001B[0m\u001B[0;34m\u001B[0m\u001B[0m\n\u001B[0;32m---> 46\u001B[0;31m         \u001B[0;32mreturn\u001B[0m \u001B[0mf\u001B[0m\u001B[0;34m(\u001B[0m\u001B[0;34m**\u001B[0m\u001B[0mkwargs\u001B[0m\u001B[0;34m)\u001B[0m\u001B[0;34m\u001B[0m\u001B[0;34m\u001B[0m\u001B[0m\n\u001B[0m\u001B[1;32m     47\u001B[0m     \u001B[0;32mreturn\u001B[0m \u001B[0minner_f\u001B[0m\u001B[0;34m\u001B[0m\u001B[0;34m\u001B[0m\u001B[0m\n\u001B[1;32m     48\u001B[0m \u001B[0;34m\u001B[0m\u001B[0m\n",
      "\u001B[0;32m~/anaconda3/envs/chetflix-3.9/lib/python3.9/site-packages/seaborn/categorical.py\u001B[0m in \u001B[0;36mpointplot\u001B[0;34m(x, y, hue, data, order, hue_order, estimator, ci, n_boot, units, seed, markers, linestyles, dodge, join, scale, orient, color, palette, errwidth, capsize, ax, **kwargs)\u001B[0m\n\u001B[1;32m   3373\u001B[0m ):\n\u001B[1;32m   3374\u001B[0m \u001B[0;34m\u001B[0m\u001B[0m\n\u001B[0;32m-> 3375\u001B[0;31m     plotter = _PointPlotter(x, y, hue, data, order, hue_order,\n\u001B[0m\u001B[1;32m   3376\u001B[0m                             \u001B[0mestimator\u001B[0m\u001B[0;34m,\u001B[0m \u001B[0mci\u001B[0m\u001B[0;34m,\u001B[0m \u001B[0mn_boot\u001B[0m\u001B[0;34m,\u001B[0m \u001B[0munits\u001B[0m\u001B[0;34m,\u001B[0m \u001B[0mseed\u001B[0m\u001B[0;34m,\u001B[0m\u001B[0;34m\u001B[0m\u001B[0;34m\u001B[0m\u001B[0m\n\u001B[1;32m   3377\u001B[0m                             \u001B[0mmarkers\u001B[0m\u001B[0;34m,\u001B[0m \u001B[0mlinestyles\u001B[0m\u001B[0;34m,\u001B[0m \u001B[0mdodge\u001B[0m\u001B[0;34m,\u001B[0m \u001B[0mjoin\u001B[0m\u001B[0;34m,\u001B[0m \u001B[0mscale\u001B[0m\u001B[0;34m,\u001B[0m\u001B[0;34m\u001B[0m\u001B[0;34m\u001B[0m\u001B[0m\n",
      "\u001B[0;32m~/anaconda3/envs/chetflix-3.9/lib/python3.9/site-packages/seaborn/categorical.py\u001B[0m in \u001B[0;36m__init__\u001B[0;34m(self, x, y, hue, data, order, hue_order, estimator, ci, n_boot, units, seed, markers, linestyles, dodge, join, scale, orient, color, palette, errwidth, capsize)\u001B[0m\n\u001B[1;32m   1655\u001B[0m         self.establish_variables(x, y, hue, data, orient,\n\u001B[1;32m   1656\u001B[0m                                  order, hue_order, units)\n\u001B[0;32m-> 1657\u001B[0;31m         \u001B[0mself\u001B[0m\u001B[0;34m.\u001B[0m\u001B[0mestablish_colors\u001B[0m\u001B[0;34m(\u001B[0m\u001B[0mcolor\u001B[0m\u001B[0;34m,\u001B[0m \u001B[0mpalette\u001B[0m\u001B[0;34m,\u001B[0m \u001B[0;36m1\u001B[0m\u001B[0;34m)\u001B[0m\u001B[0;34m\u001B[0m\u001B[0;34m\u001B[0m\u001B[0m\n\u001B[0m\u001B[1;32m   1658\u001B[0m         \u001B[0mself\u001B[0m\u001B[0;34m.\u001B[0m\u001B[0mestimate_statistic\u001B[0m\u001B[0;34m(\u001B[0m\u001B[0mestimator\u001B[0m\u001B[0;34m,\u001B[0m \u001B[0mci\u001B[0m\u001B[0;34m,\u001B[0m \u001B[0mn_boot\u001B[0m\u001B[0;34m,\u001B[0m \u001B[0mseed\u001B[0m\u001B[0;34m)\u001B[0m\u001B[0;34m\u001B[0m\u001B[0;34m\u001B[0m\u001B[0m\n\u001B[1;32m   1659\u001B[0m \u001B[0;34m\u001B[0m\u001B[0m\n",
      "\u001B[0;32m~/anaconda3/envs/chetflix-3.9/lib/python3.9/site-packages/seaborn/categorical.py\u001B[0m in \u001B[0;36mestablish_colors\u001B[0;34m(self, color, palette, saturation)\u001B[0m\n\u001B[1;32m    317\u001B[0m         \u001B[0;31m# Determine the gray color to use for the lines framing the plot\u001B[0m\u001B[0;34m\u001B[0m\u001B[0;34m\u001B[0m\u001B[0m\n\u001B[1;32m    318\u001B[0m         \u001B[0mlight_vals\u001B[0m \u001B[0;34m=\u001B[0m \u001B[0;34m[\u001B[0m\u001B[0mcolorsys\u001B[0m\u001B[0;34m.\u001B[0m\u001B[0mrgb_to_hls\u001B[0m\u001B[0;34m(\u001B[0m\u001B[0;34m*\u001B[0m\u001B[0mc\u001B[0m\u001B[0;34m)\u001B[0m\u001B[0;34m[\u001B[0m\u001B[0;36m1\u001B[0m\u001B[0;34m]\u001B[0m \u001B[0;32mfor\u001B[0m \u001B[0mc\u001B[0m \u001B[0;32min\u001B[0m \u001B[0mrgb_colors\u001B[0m\u001B[0;34m]\u001B[0m\u001B[0;34m\u001B[0m\u001B[0;34m\u001B[0m\u001B[0m\n\u001B[0;32m--> 319\u001B[0;31m         \u001B[0mlum\u001B[0m \u001B[0;34m=\u001B[0m \u001B[0mmin\u001B[0m\u001B[0;34m(\u001B[0m\u001B[0mlight_vals\u001B[0m\u001B[0;34m)\u001B[0m \u001B[0;34m*\u001B[0m \u001B[0;36m.6\u001B[0m\u001B[0;34m\u001B[0m\u001B[0;34m\u001B[0m\u001B[0m\n\u001B[0m\u001B[1;32m    320\u001B[0m         \u001B[0mgray\u001B[0m \u001B[0;34m=\u001B[0m \u001B[0mmpl\u001B[0m\u001B[0;34m.\u001B[0m\u001B[0mcolors\u001B[0m\u001B[0;34m.\u001B[0m\u001B[0mrgb2hex\u001B[0m\u001B[0;34m(\u001B[0m\u001B[0;34m(\u001B[0m\u001B[0mlum\u001B[0m\u001B[0;34m,\u001B[0m \u001B[0mlum\u001B[0m\u001B[0;34m,\u001B[0m \u001B[0mlum\u001B[0m\u001B[0;34m)\u001B[0m\u001B[0;34m)\u001B[0m\u001B[0;34m\u001B[0m\u001B[0;34m\u001B[0m\u001B[0m\n\u001B[1;32m    321\u001B[0m \u001B[0;34m\u001B[0m\u001B[0m\n",
      "\u001B[0;31mValueError\u001B[0m: min() arg is an empty sequence"
     ]
    }
   ],
   "source": [
    "sns.pointplot(data=sample_tukey[0])"
   ],
   "metadata": {
    "collapsed": false,
    "pycharm": {
     "name": "#%%\n"
    }
   }
  },
  {
   "cell_type": "code",
   "execution_count": null,
   "outputs": [],
   "source": [],
   "metadata": {
    "collapsed": false,
    "pycharm": {
     "name": "#%%\n"
    }
   }
  }
 ],
 "metadata": {
  "kernelspec": {
   "display_name": "Python 3",
   "language": "python",
   "name": "python3"
  },
  "language_info": {
   "codemirror_mode": {
    "name": "ipython",
    "version": 2
   },
   "file_extension": ".py",
   "mimetype": "text/x-python",
   "name": "python",
   "nbconvert_exporter": "python",
   "pygments_lexer": "ipython2",
   "version": "2.7.6"
  }
 },
 "nbformat": 4,
 "nbformat_minor": 0
}